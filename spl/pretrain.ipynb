{
 "cells": [
  {
   "cell_type": "code",
   "execution_count": 1,
   "metadata": {},
   "outputs": [
    {
     "name": "stdout",
     "output_type": "stream",
     "text": [
      "Requirement already satisfied: jupyter in /Users/ibrahim/anaconda3/lib/python3.11/site-packages (1.0.0)\n",
      "Requirement already satisfied: ipywidgets in /Users/ibrahim/anaconda3/lib/python3.11/site-packages (8.1.2)\n",
      "Requirement already satisfied: notebook in /Users/ibrahim/anaconda3/lib/python3.11/site-packages (from jupyter) (6.5.4)\n",
      "Requirement already satisfied: qtconsole in /Users/ibrahim/anaconda3/lib/python3.11/site-packages (from jupyter) (5.4.2)\n",
      "Requirement already satisfied: jupyter-console in /Users/ibrahim/anaconda3/lib/python3.11/site-packages (from jupyter) (6.6.3)\n",
      "Requirement already satisfied: nbconvert in /Users/ibrahim/anaconda3/lib/python3.11/site-packages (from jupyter) (6.5.4)\n",
      "Requirement already satisfied: ipykernel in /Users/ibrahim/anaconda3/lib/python3.11/site-packages (from jupyter) (6.25.0)\n",
      "Requirement already satisfied: comm>=0.1.3 in /Users/ibrahim/anaconda3/lib/python3.11/site-packages (from ipywidgets) (0.2.2)\n",
      "Requirement already satisfied: ipython>=6.1.0 in /Users/ibrahim/anaconda3/lib/python3.11/site-packages (from ipywidgets) (8.15.0)\n",
      "Requirement already satisfied: traitlets>=4.3.1 in /Users/ibrahim/anaconda3/lib/python3.11/site-packages (from ipywidgets) (5.7.1)\n",
      "Requirement already satisfied: widgetsnbextension~=4.0.10 in /Users/ibrahim/anaconda3/lib/python3.11/site-packages (from ipywidgets) (4.0.10)\n",
      "Requirement already satisfied: jupyterlab-widgets~=3.0.10 in /Users/ibrahim/anaconda3/lib/python3.11/site-packages (from ipywidgets) (3.0.10)\n",
      "Requirement already satisfied: backcall in /Users/ibrahim/anaconda3/lib/python3.11/site-packages (from ipython>=6.1.0->ipywidgets) (0.2.0)\n",
      "Requirement already satisfied: decorator in /Users/ibrahim/anaconda3/lib/python3.11/site-packages (from ipython>=6.1.0->ipywidgets) (5.1.1)\n",
      "Requirement already satisfied: jedi>=0.16 in /Users/ibrahim/anaconda3/lib/python3.11/site-packages (from ipython>=6.1.0->ipywidgets) (0.18.1)\n",
      "Requirement already satisfied: matplotlib-inline in /Users/ibrahim/anaconda3/lib/python3.11/site-packages (from ipython>=6.1.0->ipywidgets) (0.1.6)\n",
      "Requirement already satisfied: pickleshare in /Users/ibrahim/anaconda3/lib/python3.11/site-packages (from ipython>=6.1.0->ipywidgets) (0.7.5)\n",
      "Requirement already satisfied: prompt-toolkit!=3.0.37,<3.1.0,>=3.0.30 in /Users/ibrahim/anaconda3/lib/python3.11/site-packages (from ipython>=6.1.0->ipywidgets) (3.0.36)\n",
      "Requirement already satisfied: pygments>=2.4.0 in /Users/ibrahim/anaconda3/lib/python3.11/site-packages (from ipython>=6.1.0->ipywidgets) (2.15.1)\n",
      "Requirement already satisfied: stack-data in /Users/ibrahim/anaconda3/lib/python3.11/site-packages (from ipython>=6.1.0->ipywidgets) (0.2.0)\n",
      "Requirement already satisfied: pexpect>4.3 in /Users/ibrahim/anaconda3/lib/python3.11/site-packages (from ipython>=6.1.0->ipywidgets) (4.8.0)\n",
      "Requirement already satisfied: appnope in /Users/ibrahim/anaconda3/lib/python3.11/site-packages (from ipython>=6.1.0->ipywidgets) (0.1.2)\n",
      "Requirement already satisfied: debugpy>=1.6.5 in /Users/ibrahim/anaconda3/lib/python3.11/site-packages (from ipykernel->jupyter) (1.6.7)\n",
      "Requirement already satisfied: jupyter-client>=6.1.12 in /Users/ibrahim/anaconda3/lib/python3.11/site-packages (from ipykernel->jupyter) (7.4.9)\n",
      "Requirement already satisfied: jupyter-core!=5.0.*,>=4.12 in /Users/ibrahim/anaconda3/lib/python3.11/site-packages (from ipykernel->jupyter) (5.3.0)\n",
      "Requirement already satisfied: nest-asyncio in /Users/ibrahim/anaconda3/lib/python3.11/site-packages (from ipykernel->jupyter) (1.5.6)\n",
      "Requirement already satisfied: packaging in /Users/ibrahim/anaconda3/lib/python3.11/site-packages (from ipykernel->jupyter) (23.1)\n",
      "Requirement already satisfied: psutil in /Users/ibrahim/anaconda3/lib/python3.11/site-packages (from ipykernel->jupyter) (5.9.0)\n",
      "Requirement already satisfied: pyzmq>=20 in /Users/ibrahim/anaconda3/lib/python3.11/site-packages (from ipykernel->jupyter) (23.2.0)\n",
      "Requirement already satisfied: tornado>=6.1 in /Users/ibrahim/anaconda3/lib/python3.11/site-packages (from ipykernel->jupyter) (6.3.2)\n",
      "Requirement already satisfied: lxml in /Users/ibrahim/anaconda3/lib/python3.11/site-packages (from nbconvert->jupyter) (4.9.3)\n",
      "Requirement already satisfied: beautifulsoup4 in /Users/ibrahim/anaconda3/lib/python3.11/site-packages (from nbconvert->jupyter) (4.12.2)\n",
      "Requirement already satisfied: bleach in /Users/ibrahim/anaconda3/lib/python3.11/site-packages (from nbconvert->jupyter) (4.1.0)\n",
      "Requirement already satisfied: defusedxml in /Users/ibrahim/anaconda3/lib/python3.11/site-packages (from nbconvert->jupyter) (0.7.1)\n",
      "Requirement already satisfied: entrypoints>=0.2.2 in /Users/ibrahim/anaconda3/lib/python3.11/site-packages (from nbconvert->jupyter) (0.4)\n",
      "Requirement already satisfied: jinja2>=3.0 in /Users/ibrahim/anaconda3/lib/python3.11/site-packages (from nbconvert->jupyter) (3.1.2)\n",
      "Requirement already satisfied: jupyterlab-pygments in /Users/ibrahim/anaconda3/lib/python3.11/site-packages (from nbconvert->jupyter) (0.1.2)\n",
      "Requirement already satisfied: MarkupSafe>=2.0 in /Users/ibrahim/anaconda3/lib/python3.11/site-packages (from nbconvert->jupyter) (2.1.1)\n",
      "Requirement already satisfied: mistune<2,>=0.8.1 in /Users/ibrahim/anaconda3/lib/python3.11/site-packages (from nbconvert->jupyter) (0.8.4)\n",
      "Requirement already satisfied: nbclient>=0.5.0 in /Users/ibrahim/anaconda3/lib/python3.11/site-packages (from nbconvert->jupyter) (0.5.13)\n",
      "Requirement already satisfied: nbformat>=5.1 in /Users/ibrahim/anaconda3/lib/python3.11/site-packages (from nbconvert->jupyter) (5.9.2)\n",
      "Requirement already satisfied: pandocfilters>=1.4.1 in /Users/ibrahim/anaconda3/lib/python3.11/site-packages (from nbconvert->jupyter) (1.5.0)\n",
      "Requirement already satisfied: tinycss2 in /Users/ibrahim/anaconda3/lib/python3.11/site-packages (from nbconvert->jupyter) (1.2.1)\n",
      "Requirement already satisfied: argon2-cffi in /Users/ibrahim/anaconda3/lib/python3.11/site-packages (from notebook->jupyter) (21.3.0)\n",
      "Requirement already satisfied: ipython-genutils in /Users/ibrahim/anaconda3/lib/python3.11/site-packages (from notebook->jupyter) (0.2.0)\n",
      "Requirement already satisfied: Send2Trash>=1.8.0 in /Users/ibrahim/anaconda3/lib/python3.11/site-packages (from notebook->jupyter) (1.8.0)\n",
      "Requirement already satisfied: terminado>=0.8.3 in /Users/ibrahim/anaconda3/lib/python3.11/site-packages (from notebook->jupyter) (0.17.1)\n",
      "Requirement already satisfied: prometheus-client in /Users/ibrahim/anaconda3/lib/python3.11/site-packages (from notebook->jupyter) (0.14.1)\n",
      "Requirement already satisfied: nbclassic>=0.4.7 in /Users/ibrahim/anaconda3/lib/python3.11/site-packages (from notebook->jupyter) (0.5.5)\n",
      "Requirement already satisfied: qtpy>=2.0.1 in /Users/ibrahim/anaconda3/lib/python3.11/site-packages (from qtconsole->jupyter) (2.2.0)\n",
      "Requirement already satisfied: parso<0.9.0,>=0.8.0 in /Users/ibrahim/anaconda3/lib/python3.11/site-packages (from jedi>=0.16->ipython>=6.1.0->ipywidgets) (0.8.3)\n",
      "Requirement already satisfied: python-dateutil>=2.8.2 in /Users/ibrahim/anaconda3/lib/python3.11/site-packages (from jupyter-client>=6.1.12->ipykernel->jupyter) (2.8.2)\n",
      "Requirement already satisfied: platformdirs>=2.5 in /Users/ibrahim/anaconda3/lib/python3.11/site-packages (from jupyter-core!=5.0.*,>=4.12->ipykernel->jupyter) (3.10.0)\n",
      "Requirement already satisfied: jupyter-server>=1.8 in /Users/ibrahim/anaconda3/lib/python3.11/site-packages (from nbclassic>=0.4.7->notebook->jupyter) (1.23.4)\n",
      "Requirement already satisfied: notebook-shim>=0.1.0 in /Users/ibrahim/anaconda3/lib/python3.11/site-packages (from nbclassic>=0.4.7->notebook->jupyter) (0.2.2)\n",
      "Requirement already satisfied: fastjsonschema in /Users/ibrahim/anaconda3/lib/python3.11/site-packages (from nbformat>=5.1->nbconvert->jupyter) (2.16.2)\n",
      "Requirement already satisfied: jsonschema>=2.6 in /Users/ibrahim/anaconda3/lib/python3.11/site-packages (from nbformat>=5.1->nbconvert->jupyter) (4.17.3)\n",
      "Requirement already satisfied: ptyprocess>=0.5 in /Users/ibrahim/anaconda3/lib/python3.11/site-packages (from pexpect>4.3->ipython>=6.1.0->ipywidgets) (0.7.0)\n",
      "Requirement already satisfied: wcwidth in /Users/ibrahim/anaconda3/lib/python3.11/site-packages (from prompt-toolkit!=3.0.37,<3.1.0,>=3.0.30->ipython>=6.1.0->ipywidgets) (0.2.5)\n",
      "Requirement already satisfied: argon2-cffi-bindings in /Users/ibrahim/anaconda3/lib/python3.11/site-packages (from argon2-cffi->notebook->jupyter) (21.2.0)\n",
      "Requirement already satisfied: soupsieve>1.2 in /Users/ibrahim/anaconda3/lib/python3.11/site-packages (from beautifulsoup4->nbconvert->jupyter) (2.4)\n",
      "Requirement already satisfied: six>=1.9.0 in /Users/ibrahim/anaconda3/lib/python3.11/site-packages (from bleach->nbconvert->jupyter) (1.16.0)\n",
      "Requirement already satisfied: webencodings in /Users/ibrahim/anaconda3/lib/python3.11/site-packages (from bleach->nbconvert->jupyter) (0.5.1)\n",
      "Requirement already satisfied: executing in /Users/ibrahim/anaconda3/lib/python3.11/site-packages (from stack-data->ipython>=6.1.0->ipywidgets) (0.8.3)\n",
      "Requirement already satisfied: asttokens in /Users/ibrahim/anaconda3/lib/python3.11/site-packages (from stack-data->ipython>=6.1.0->ipywidgets) (2.0.5)\n",
      "Requirement already satisfied: pure-eval in /Users/ibrahim/anaconda3/lib/python3.11/site-packages (from stack-data->ipython>=6.1.0->ipywidgets) (0.2.2)\n",
      "Requirement already satisfied: attrs>=17.4.0 in /Users/ibrahim/anaconda3/lib/python3.11/site-packages (from jsonschema>=2.6->nbformat>=5.1->nbconvert->jupyter) (22.1.0)\n",
      "Requirement already satisfied: pyrsistent!=0.17.0,!=0.17.1,!=0.17.2,>=0.14.0 in /Users/ibrahim/anaconda3/lib/python3.11/site-packages (from jsonschema>=2.6->nbformat>=5.1->nbconvert->jupyter) (0.18.0)\n",
      "Requirement already satisfied: anyio<4,>=3.1.0 in /Users/ibrahim/anaconda3/lib/python3.11/site-packages (from jupyter-server>=1.8->nbclassic>=0.4.7->notebook->jupyter) (3.5.0)\n",
      "Requirement already satisfied: websocket-client in /Users/ibrahim/anaconda3/lib/python3.11/site-packages (from jupyter-server>=1.8->nbclassic>=0.4.7->notebook->jupyter) (0.58.0)\n",
      "Requirement already satisfied: cffi>=1.0.1 in /Users/ibrahim/anaconda3/lib/python3.11/site-packages (from argon2-cffi-bindings->argon2-cffi->notebook->jupyter) (1.15.1)\n",
      "Requirement already satisfied: idna>=2.8 in /Users/ibrahim/anaconda3/lib/python3.11/site-packages (from anyio<4,>=3.1.0->jupyter-server>=1.8->nbclassic>=0.4.7->notebook->jupyter) (3.4)\n",
      "Requirement already satisfied: sniffio>=1.1 in /Users/ibrahim/anaconda3/lib/python3.11/site-packages (from anyio<4,>=3.1.0->jupyter-server>=1.8->nbclassic>=0.4.7->notebook->jupyter) (1.2.0)\n",
      "Requirement already satisfied: pycparser in /Users/ibrahim/anaconda3/lib/python3.11/site-packages (from cffi>=1.0.1->argon2-cffi-bindings->argon2-cffi->notebook->jupyter) (2.21)\n",
      "Note: you may need to restart the kernel to use updated packages.\n",
      "Requirement already satisfied: torch in /Users/ibrahim/anaconda3/lib/python3.11/site-packages (2.3.0)\n",
      "Requirement already satisfied: fairscale in /Users/ibrahim/anaconda3/lib/python3.11/site-packages (0.4.13)\n",
      "Requirement already satisfied: tiktoken==0.4.0 in /Users/ibrahim/anaconda3/lib/python3.11/site-packages (0.4.0)\n",
      "Requirement already satisfied: fair in /Users/ibrahim/anaconda3/lib/python3.11/site-packages (2.1.4)\n",
      "Requirement already satisfied: blobfile in /Users/ibrahim/anaconda3/lib/python3.11/site-packages (2.1.1)\n",
      "Requirement already satisfied: datasets in /Users/ibrahim/anaconda3/lib/python3.11/site-packages (2.12.0)\n",
      "Requirement already satisfied: mwparserfromhell in /Users/ibrahim/anaconda3/lib/python3.11/site-packages (0.6.6)\n",
      "Requirement already satisfied: regex>=2022.1.18 in /Users/ibrahim/anaconda3/lib/python3.11/site-packages (from tiktoken==0.4.0) (2022.7.9)\n",
      "Requirement already satisfied: requests>=2.26.0 in /Users/ibrahim/anaconda3/lib/python3.11/site-packages (from tiktoken==0.4.0) (2.31.0)\n",
      "Requirement already satisfied: filelock in /Users/ibrahim/anaconda3/lib/python3.11/site-packages (from torch) (3.9.0)\n",
      "Requirement already satisfied: typing-extensions>=4.8.0 in /Users/ibrahim/anaconda3/lib/python3.11/site-packages (from torch) (4.11.0)\n",
      "Requirement already satisfied: sympy in /Users/ibrahim/anaconda3/lib/python3.11/site-packages (from torch) (1.11.1)\n",
      "Requirement already satisfied: networkx in /Users/ibrahim/anaconda3/lib/python3.11/site-packages (from torch) (3.1)\n",
      "Requirement already satisfied: jinja2 in /Users/ibrahim/anaconda3/lib/python3.11/site-packages (from torch) (3.1.2)\n",
      "Requirement already satisfied: fsspec in /Users/ibrahim/anaconda3/lib/python3.11/site-packages (from torch) (2023.4.0)\n",
      "Requirement already satisfied: numpy>=1.22.0 in /Users/ibrahim/anaconda3/lib/python3.11/site-packages (from fairscale) (1.24.3)\n",
      "Requirement already satisfied: matplotlib in /Users/ibrahim/anaconda3/lib/python3.11/site-packages (from fair) (3.7.2)\n",
      "Requirement already satisfied: pandas in /Users/ibrahim/anaconda3/lib/python3.11/site-packages (from fair) (2.0.3)\n",
      "Requirement already satisfied: pooch in /Users/ibrahim/anaconda3/lib/python3.11/site-packages (from fair) (1.8.1)\n",
      "Requirement already satisfied: scipy in /Users/ibrahim/anaconda3/lib/python3.11/site-packages (from fair) (1.11.1)\n",
      "Requirement already satisfied: tqdm in /Users/ibrahim/anaconda3/lib/python3.11/site-packages (from fair) (4.65.0)\n",
      "Requirement already satisfied: xarray in /Users/ibrahim/anaconda3/lib/python3.11/site-packages (from fair) (2023.6.0)\n",
      "Requirement already satisfied: pycryptodomex~=3.8 in /Users/ibrahim/anaconda3/lib/python3.11/site-packages (from blobfile) (3.20.0)\n",
      "Requirement already satisfied: urllib3<3,>=1.25.3 in /Users/ibrahim/anaconda3/lib/python3.11/site-packages (from blobfile) (1.26.16)\n",
      "Requirement already satisfied: lxml~=4.9 in /Users/ibrahim/anaconda3/lib/python3.11/site-packages (from blobfile) (4.9.3)\n",
      "Requirement already satisfied: pyarrow>=8.0.0 in /Users/ibrahim/anaconda3/lib/python3.11/site-packages (from datasets) (11.0.0)\n",
      "Requirement already satisfied: dill<0.3.7,>=0.3.0 in /Users/ibrahim/anaconda3/lib/python3.11/site-packages (from datasets) (0.3.6)\n",
      "Requirement already satisfied: xxhash in /Users/ibrahim/anaconda3/lib/python3.11/site-packages (from datasets) (2.0.2)\n",
      "Requirement already satisfied: multiprocess in /Users/ibrahim/anaconda3/lib/python3.11/site-packages (from datasets) (0.70.14)\n",
      "Requirement already satisfied: aiohttp in /Users/ibrahim/anaconda3/lib/python3.11/site-packages (from datasets) (3.8.5)\n",
      "Requirement already satisfied: huggingface-hub<1.0.0,>=0.11.0 in /Users/ibrahim/anaconda3/lib/python3.11/site-packages (from datasets) (0.15.1)\n",
      "Requirement already satisfied: packaging in /Users/ibrahim/anaconda3/lib/python3.11/site-packages (from datasets) (23.1)\n",
      "Requirement already satisfied: responses<0.19 in /Users/ibrahim/anaconda3/lib/python3.11/site-packages (from datasets) (0.13.3)\n",
      "Requirement already satisfied: pyyaml>=5.1 in /Users/ibrahim/anaconda3/lib/python3.11/site-packages (from datasets) (6.0)\n",
      "Requirement already satisfied: attrs>=17.3.0 in /Users/ibrahim/anaconda3/lib/python3.11/site-packages (from aiohttp->datasets) (22.1.0)\n",
      "Requirement already satisfied: charset-normalizer<4.0,>=2.0 in /Users/ibrahim/anaconda3/lib/python3.11/site-packages (from aiohttp->datasets) (2.0.4)\n",
      "Requirement already satisfied: multidict<7.0,>=4.5 in /Users/ibrahim/anaconda3/lib/python3.11/site-packages (from aiohttp->datasets) (6.0.2)\n",
      "Requirement already satisfied: async-timeout<5.0,>=4.0.0a3 in /Users/ibrahim/anaconda3/lib/python3.11/site-packages (from aiohttp->datasets) (4.0.2)\n",
      "Requirement already satisfied: yarl<2.0,>=1.0 in /Users/ibrahim/anaconda3/lib/python3.11/site-packages (from aiohttp->datasets) (1.8.1)\n",
      "Requirement already satisfied: frozenlist>=1.1.1 in /Users/ibrahim/anaconda3/lib/python3.11/site-packages (from aiohttp->datasets) (1.3.3)\n",
      "Requirement already satisfied: aiosignal>=1.1.2 in /Users/ibrahim/anaconda3/lib/python3.11/site-packages (from aiohttp->datasets) (1.2.0)\n",
      "Requirement already satisfied: idna<4,>=2.5 in /Users/ibrahim/anaconda3/lib/python3.11/site-packages (from requests>=2.26.0->tiktoken==0.4.0) (3.4)\n",
      "Requirement already satisfied: certifi>=2017.4.17 in /Users/ibrahim/anaconda3/lib/python3.11/site-packages (from requests>=2.26.0->tiktoken==0.4.0) (2023.11.17)\n",
      "Requirement already satisfied: six in /Users/ibrahim/anaconda3/lib/python3.11/site-packages (from responses<0.19->datasets) (1.16.0)\n",
      "Requirement already satisfied: MarkupSafe>=2.0 in /Users/ibrahim/anaconda3/lib/python3.11/site-packages (from jinja2->torch) (2.1.1)\n",
      "Requirement already satisfied: contourpy>=1.0.1 in /Users/ibrahim/anaconda3/lib/python3.11/site-packages (from matplotlib->fair) (1.0.5)\n",
      "Requirement already satisfied: cycler>=0.10 in /Users/ibrahim/anaconda3/lib/python3.11/site-packages (from matplotlib->fair) (0.11.0)\n",
      "Requirement already satisfied: fonttools>=4.22.0 in /Users/ibrahim/anaconda3/lib/python3.11/site-packages (from matplotlib->fair) (4.25.0)\n",
      "Requirement already satisfied: kiwisolver>=1.0.1 in /Users/ibrahim/anaconda3/lib/python3.11/site-packages (from matplotlib->fair) (1.4.4)\n",
      "Requirement already satisfied: pillow>=6.2.0 in /Users/ibrahim/anaconda3/lib/python3.11/site-packages (from matplotlib->fair) (10.0.1)\n",
      "Requirement already satisfied: pyparsing<3.1,>=2.3.1 in /Users/ibrahim/anaconda3/lib/python3.11/site-packages (from matplotlib->fair) (3.0.9)\n",
      "Requirement already satisfied: python-dateutil>=2.7 in /Users/ibrahim/anaconda3/lib/python3.11/site-packages (from matplotlib->fair) (2.8.2)\n",
      "Requirement already satisfied: pytz>=2020.1 in /Users/ibrahim/anaconda3/lib/python3.11/site-packages (from pandas->fair) (2023.3.post1)\n",
      "Requirement already satisfied: tzdata>=2022.1 in /Users/ibrahim/anaconda3/lib/python3.11/site-packages (from pandas->fair) (2023.3)\n",
      "Requirement already satisfied: platformdirs>=2.5.0 in /Users/ibrahim/anaconda3/lib/python3.11/site-packages (from pooch->fair) (3.10.0)\n",
      "Requirement already satisfied: mpmath>=0.19 in /Users/ibrahim/anaconda3/lib/python3.11/site-packages (from sympy->torch) (1.3.0)\n",
      "Note: you may need to restart the kernel to use updated packages.\n"
     ]
    }
   ],
   "source": [
    "%pip install --upgrade jupyter ipywidgets\n",
    "%pip install torch fairscale tiktoken==0.4.0 fair blobfile datasets mwparserfromhell"
   ]
  },
  {
   "cell_type": "code",
   "execution_count": 2,
   "metadata": {},
   "outputs": [
    {
     "name": "stderr",
     "output_type": "stream",
     "text": [
      "2024-05-16 18:11:36,920 - INFO - NumExpr defaulting to 8 threads.\n"
     ]
    },
    {
     "name": "stdout",
     "output_type": "stream",
     "text": [
      "Layer state dict saved to data/layer_0.pt\n",
      "Layer state dict saved to data/layer_1.pt\n",
      "Layer state dict saved to data/layer_2.pt\n",
      "Layer state dict saved to data/layer_3.pt\n",
      "Layer state dict saved to data/layer_4.pt\n",
      "Layer state dict saved to data/layer_5.pt\n"
     ]
    },
    {
     "name": "stderr",
     "output_type": "stream",
     "text": [
      "Epoch 1/3: 0it [00:00, ?it/s]2024-05-16 18:11:38,948 - INFO - generating examples from = https://dumps.wikimedia.org/enwiki/20240401/enwiki-20240401-pages-articles-multistream1.xml-p1p41242.bz2\n"
     ]
    },
    {
     "name": "stdout",
     "output_type": "stream",
     "text": [
      "Extracting content from https://dumps.wikimedia.org/enwiki/20240401/enwiki-20240401-pages-articles-multistream1.xml-p1p41242.bz2\n",
      "Saved to data/batch.pt\n",
      "Loaded from data/batch.pt\n",
      "Saved to data/inputs.pt\n",
      "Loaded from data/inputs.pt\n",
      "Saved to data/inputs_layer_0.pt\n",
      "Layer state dict loaded from data/layer_0.pt\n",
      "Loaded from data/inputs_layer_0.pt\n"
     ]
    },
    {
     "name": "stderr",
     "output_type": "stream",
     "text": [
      "/Users/ibrahim/anaconda3/lib/python3.11/site-packages/torch/amp/autocast_mode.py:250: UserWarning: User provided device_type of 'cuda', but CUDA is not available. Disabling\n",
      "  warnings.warn(\n"
     ]
    },
    {
     "name": "stdout",
     "output_type": "stream",
     "text": [
      "Saved to data/activations_layer_0.pt\n",
      "Loaded from data/activations_layer_0.pt\n",
      "Saved to data/inputs_layer_1.pt\n",
      "Layer state dict loaded from data/layer_1.pt\n",
      "Loaded from data/inputs_layer_1.pt\n"
     ]
    },
    {
     "name": "stderr",
     "output_type": "stream",
     "text": [
      "/Users/ibrahim/anaconda3/lib/python3.11/site-packages/torch/amp/autocast_mode.py:250: UserWarning: User provided device_type of 'cuda', but CUDA is not available. Disabling\n",
      "  warnings.warn(\n"
     ]
    },
    {
     "name": "stdout",
     "output_type": "stream",
     "text": [
      "Saved to data/activations_layer_1.pt\n",
      "Loaded from data/activations_layer_1.pt\n",
      "Saved to data/inputs_layer_2.pt\n",
      "Layer state dict loaded from data/layer_2.pt\n",
      "Loaded from data/inputs_layer_2.pt\n"
     ]
    },
    {
     "name": "stderr",
     "output_type": "stream",
     "text": [
      "/Users/ibrahim/anaconda3/lib/python3.11/site-packages/torch/amp/autocast_mode.py:250: UserWarning: User provided device_type of 'cuda', but CUDA is not available. Disabling\n",
      "  warnings.warn(\n"
     ]
    },
    {
     "name": "stdout",
     "output_type": "stream",
     "text": [
      "Saved to data/activations_layer_2.pt\n",
      "Loaded from data/activations_layer_2.pt\n",
      "Saved to data/inputs_layer_3.pt\n",
      "Layer state dict loaded from data/layer_3.pt\n",
      "Loaded from data/inputs_layer_3.pt\n"
     ]
    },
    {
     "name": "stderr",
     "output_type": "stream",
     "text": [
      "/Users/ibrahim/anaconda3/lib/python3.11/site-packages/torch/amp/autocast_mode.py:250: UserWarning: User provided device_type of 'cuda', but CUDA is not available. Disabling\n",
      "  warnings.warn(\n"
     ]
    },
    {
     "name": "stdout",
     "output_type": "stream",
     "text": [
      "Saved to data/activations_layer_3.pt\n",
      "Loaded from data/activations_layer_3.pt\n",
      "Saved to data/inputs_layer_4.pt\n",
      "Layer state dict loaded from data/layer_4.pt\n",
      "Loaded from data/inputs_layer_4.pt\n"
     ]
    },
    {
     "name": "stderr",
     "output_type": "stream",
     "text": [
      "/Users/ibrahim/anaconda3/lib/python3.11/site-packages/torch/amp/autocast_mode.py:250: UserWarning: User provided device_type of 'cuda', but CUDA is not available. Disabling\n",
      "  warnings.warn(\n"
     ]
    },
    {
     "name": "stdout",
     "output_type": "stream",
     "text": [
      "Saved to data/activations_layer_4.pt\n",
      "Loaded from data/activations_layer_4.pt\n",
      "Saved to data/inputs_layer_5.pt\n",
      "Layer state dict loaded from data/layer_5.pt\n",
      "Loaded from data/inputs_layer_5.pt\n"
     ]
    },
    {
     "name": "stderr",
     "output_type": "stream",
     "text": [
      "/Users/ibrahim/anaconda3/lib/python3.11/site-packages/torch/amp/autocast_mode.py:250: UserWarning: User provided device_type of 'cuda', but CUDA is not available. Disabling\n",
      "  warnings.warn(\n"
     ]
    },
    {
     "name": "stdout",
     "output_type": "stream",
     "text": [
      "Saved to data/activations_layer_5.pt\n",
      "Loaded from data/activations_layer_5.pt\n",
      "Saved to data/final_inputs.pt\n",
      "Loaded from data/final_inputs.pt\n",
      "Saved to data/logits.pt\n",
      "Loaded from data/logits.pt\n",
      "Saved to data/error_layer_5.pt\n",
      "Layer state dict loaded from data/layer_5.pt\n",
      "Loaded from data/error_layer_5.pt\n"
     ]
    },
    {
     "name": "stderr",
     "output_type": "stream",
     "text": [
      "/Users/ibrahim/anaconda3/lib/python3.11/site-packages/torch/amp/grad_scaler.py:131: UserWarning: torch.cuda.amp.GradScaler is enabled, but CUDA is not available.  Disabling.\n",
      "  warnings.warn(\n",
      "/Users/ibrahim/anaconda3/lib/python3.11/site-packages/torch/amp/autocast_mode.py:250: UserWarning: User provided device_type of 'cuda', but CUDA is not available. Disabling\n",
      "  warnings.warn(\n"
     ]
    },
    {
     "name": "stdout",
     "output_type": "stream",
     "text": [
      "Running backward step\n",
      "Shape of x: torch.Size([1, 2048, 100277])\n"
     ]
    },
    {
     "name": "stderr",
     "output_type": "stream",
     "text": [
      "2024-05-16 18:13:01,340 - ERROR - Failed to process and save batch: Failed to load error and grads from data/error_layer_5.pt\n",
      "2024-05-16 18:13:01,356 - ERROR - Error processing batch at step 0: Failed to load error and grads from data/error_layer_5.pt\n",
      "Epoch 1/3: 1it [01:22, 82.43s/it]"
     ]
    },
    {
     "name": "stdout",
     "output_type": "stream",
     "text": [
      "Loaded from data/error_layer_5.pt\n",
      "ERROR GRADS SHAPE:  torch.Size([2048, 100277])\n",
      "ERROR GRADS LEN:  1\n",
      "ERROR GRADS:  tensor([[[1.0594e-09, 1.0891e-09, 1.5914e-09,  ..., 3.1967e-10,\n",
      "          6.7050e-10, 5.4135e-10],\n",
      "         [3.3859e-10, 8.9587e-10, 7.4177e-09,  ..., 3.6375e-10,\n",
      "          4.8879e-10, 1.3713e-09],\n",
      "         [4.4283e-10, 1.0711e-09, 1.3665e-10,  ..., 8.9546e-10,\n",
      "          1.5640e-09, 1.2189e-09],\n",
      "         ...,\n",
      "         [4.2622e-10, 7.7656e-10, 1.6378e-09,  ..., 2.6334e-10,\n",
      "          1.0670e-09, 7.9344e-10],\n",
      "         [6.8544e-10, 4.5751e-10, 5.8359e-10,  ..., 2.0027e-09,\n",
      "          3.3350e-10, 6.0974e-10],\n",
      "         [7.1990e-10, 2.4505e-10, 2.0007e-09,  ..., 6.4085e-10,\n",
      "          9.1735e-10, 1.4276e-09]]])\n",
      "Saved to data/batch.pt\n",
      "Loaded from data/batch.pt\n",
      "Saved to data/inputs.pt\n",
      "Loaded from data/inputs.pt\n",
      "Saved to data/inputs_layer_0.pt\n",
      "Layer state dict loaded from data/layer_0.pt\n",
      "Loaded from data/inputs_layer_0.pt\n"
     ]
    },
    {
     "name": "stderr",
     "output_type": "stream",
     "text": [
      "/Users/ibrahim/anaconda3/lib/python3.11/site-packages/torch/amp/autocast_mode.py:250: UserWarning: User provided device_type of 'cuda', but CUDA is not available. Disabling\n",
      "  warnings.warn(\n"
     ]
    },
    {
     "name": "stdout",
     "output_type": "stream",
     "text": [
      "Saved to data/activations_layer_0.pt\n",
      "Loaded from data/activations_layer_0.pt\n",
      "Saved to data/inputs_layer_1.pt\n",
      "Layer state dict loaded from data/layer_1.pt\n",
      "Loaded from data/inputs_layer_1.pt\n"
     ]
    },
    {
     "name": "stderr",
     "output_type": "stream",
     "text": [
      "/Users/ibrahim/anaconda3/lib/python3.11/site-packages/torch/amp/autocast_mode.py:250: UserWarning: User provided device_type of 'cuda', but CUDA is not available. Disabling\n",
      "  warnings.warn(\n"
     ]
    },
    {
     "name": "stdout",
     "output_type": "stream",
     "text": [
      "Saved to data/activations_layer_1.pt\n",
      "Loaded from data/activations_layer_1.pt\n",
      "Saved to data/inputs_layer_2.pt\n",
      "Layer state dict loaded from data/layer_2.pt\n",
      "Loaded from data/inputs_layer_2.pt\n"
     ]
    },
    {
     "name": "stderr",
     "output_type": "stream",
     "text": [
      "/Users/ibrahim/anaconda3/lib/python3.11/site-packages/torch/amp/autocast_mode.py:250: UserWarning: User provided device_type of 'cuda', but CUDA is not available. Disabling\n",
      "  warnings.warn(\n"
     ]
    },
    {
     "name": "stdout",
     "output_type": "stream",
     "text": [
      "Saved to data/activations_layer_2.pt\n",
      "Loaded from data/activations_layer_2.pt\n",
      "Saved to data/inputs_layer_3.pt\n",
      "Layer state dict loaded from data/layer_3.pt\n",
      "Loaded from data/inputs_layer_3.pt\n"
     ]
    },
    {
     "name": "stderr",
     "output_type": "stream",
     "text": [
      "/Users/ibrahim/anaconda3/lib/python3.11/site-packages/torch/amp/autocast_mode.py:250: UserWarning: User provided device_type of 'cuda', but CUDA is not available. Disabling\n",
      "  warnings.warn(\n"
     ]
    },
    {
     "name": "stdout",
     "output_type": "stream",
     "text": [
      "Saved to data/activations_layer_3.pt\n",
      "Loaded from data/activations_layer_3.pt\n",
      "Saved to data/inputs_layer_4.pt\n",
      "Layer state dict loaded from data/layer_4.pt\n",
      "Loaded from data/inputs_layer_4.pt\n"
     ]
    },
    {
     "name": "stderr",
     "output_type": "stream",
     "text": [
      "/Users/ibrahim/anaconda3/lib/python3.11/site-packages/torch/amp/autocast_mode.py:250: UserWarning: User provided device_type of 'cuda', but CUDA is not available. Disabling\n",
      "  warnings.warn(\n"
     ]
    },
    {
     "name": "stdout",
     "output_type": "stream",
     "text": [
      "Saved to data/activations_layer_4.pt\n",
      "Loaded from data/activations_layer_4.pt\n",
      "Saved to data/inputs_layer_5.pt\n",
      "Layer state dict loaded from data/layer_5.pt\n",
      "Loaded from data/inputs_layer_5.pt\n"
     ]
    },
    {
     "name": "stderr",
     "output_type": "stream",
     "text": [
      "/Users/ibrahim/anaconda3/lib/python3.11/site-packages/torch/amp/autocast_mode.py:250: UserWarning: User provided device_type of 'cuda', but CUDA is not available. Disabling\n",
      "  warnings.warn(\n"
     ]
    },
    {
     "name": "stdout",
     "output_type": "stream",
     "text": [
      "Saved to data/activations_layer_5.pt\n",
      "Loaded from data/activations_layer_5.pt\n",
      "Saved to data/final_inputs.pt\n",
      "Loaded from data/final_inputs.pt\n",
      "Saved to data/logits.pt\n",
      "Loaded from data/logits.pt\n",
      "Saved to data/error_layer_5.pt\n",
      "Layer state dict loaded from data/layer_5.pt\n",
      "Loaded from data/error_layer_5.pt\n"
     ]
    },
    {
     "name": "stderr",
     "output_type": "stream",
     "text": [
      "/Users/ibrahim/anaconda3/lib/python3.11/site-packages/torch/amp/grad_scaler.py:131: UserWarning: torch.cuda.amp.GradScaler is enabled, but CUDA is not available.  Disabling.\n",
      "  warnings.warn(\n",
      "/Users/ibrahim/anaconda3/lib/python3.11/site-packages/torch/amp/autocast_mode.py:250: UserWarning: User provided device_type of 'cuda', but CUDA is not available. Disabling\n",
      "  warnings.warn(\n"
     ]
    },
    {
     "name": "stdout",
     "output_type": "stream",
     "text": [
      "Running backward step\n",
      "Shape of x: torch.Size([1, 2048, 100277])\n"
     ]
    }
   ],
   "source": [
    "import logging\n",
    "logging.basicConfig(level=logging.INFO, format='%(asctime)s - %(levelname)s - %(message)s')\n",
    "\n",
    "import torch\n",
    "from common import save_to_disk, load_from_disk, save_layer_state_dict, load_layer_state_dict\n",
    "from tokenizer import Tokenizer\n",
    "from datasets import load_dataset\n",
    "from torch.utils.data import DataLoader, IterableDataset\n",
    "import torch.nn.functional as F\n",
    "from tqdm import tqdm\n",
    "import os\n",
    "import time\n",
    "from model import ModelArgs, TransformerLayer\n",
    "\n",
    "class StreamingWikipediaDataset(IterableDataset):\n",
    "    def __init__(self, texts, tokenizer, seq_len):\n",
    "        self.texts = texts\n",
    "        self.tokenizer = tokenizer\n",
    "        self.seq_len = seq_len\n",
    "\n",
    "    def parse(self, text):\n",
    "        tokens = self.tokenizer.encode(text, bos=True, eos=True)\n",
    "        tokens = tokens[:self.seq_len] + [self.tokenizer.pad_id] * (self.seq_len - len(tokens))\n",
    "        return torch.tensor(tokens)\n",
    "\n",
    "    def __iter__(self):\n",
    "        for item in self.texts:\n",
    "            yield self.parse(item['text'])\n",
    "\n",
    "def wait_for_file(filename, timeout=30):\n",
    "    start_time = time.time()\n",
    "    while not os.path.exists(filename):\n",
    "        if time.time() - start_time > timeout:\n",
    "            raise TimeoutError(f\"Timeout waiting for {filename}\")\n",
    "        time.sleep(0.1)\n",
    "\n",
    "def initialize_layers(num_layers, vocab_size):\n",
    "    for layer_idx in range(num_layers):\n",
    "        model_args = ModelArgs(\n",
    "            vocab_size=vocab_size,\n",
    "            dim=512,\n",
    "            n_layers=6,\n",
    "            n_heads=8,\n",
    "            ffn_dim_multiplier=4\n",
    "        )\n",
    "        layer = TransformerLayer(model_args.dim, model_args.n_heads, model_args.dim * model_args.ffn_dim_multiplier)\n",
    "        save_layer_state_dict(layer.state_dict(), f\"data/layer_{layer_idx}.pt\")\n",
    "\n",
    "def main():\n",
    "    # Initialize the tokenizer\n",
    "    tokenizer = Tokenizer(encoding_name='cl100k_base')\n",
    "    \n",
    "    # Load the dataset using streaming\n",
    "    dataset = load_dataset(\"wikipedia\", language=\"en\", date=\"20240401\", split='train', streaming=True)\n",
    "    \n",
    "    # Prepare the dataset and dataloader\n",
    "    seq_len = 2048\n",
    "    wiki_dataset = StreamingWikipediaDataset(dataset, tokenizer, seq_len)\n",
    "    dataloader = DataLoader(wiki_dataset, batch_size=1, shuffle=False, num_workers=0)\n",
    "\n",
    "    num_epochs = 3\n",
    "    gradient_accumulation_steps = 4\n",
    "\n",
    "    # Initialize layer state dictionaries\n",
    "    initialize_layers(num_layers=6, vocab_size=tokenizer.get_vocab_size())\n",
    "\n",
    "    for epoch in range(num_epochs):\n",
    "        epoch_loss = 0\n",
    "\n",
    "        for step, batch in enumerate(tqdm(dataloader, desc=f\"Epoch {epoch + 1}/{num_epochs}\")):\n",
    "            try:\n",
    "                process_batch(batch, tokenizer, gradient_accumulation_steps, epoch_loss)\n",
    "            except Exception as e:\n",
    "                logging.error(f\"Error processing batch at step {step}: {e}\")\n",
    "                continue \n",
    "\n",
    "        print(f\"Epoch {epoch + 1} Loss: {epoch_loss / len(dataloader)}\")\n",
    "\n",
    "def process_batch(batch, tokenizer, gradient_accumulation_steps, epoch_loss):\n",
    "    try:\n",
    "        batch = batch.to('cpu')\n",
    "        save_to_disk(batch, \"data/batch.pt\")\n",
    "        os.system(f\"python worker.py --task embed --batch data/batch.pt\")\n",
    "        wait_for_file(\"data/inputs.pt\")\n",
    "        inputs = load_from_disk(\"data/inputs.pt\")\n",
    "\n",
    "        for layer_idx in range(6):\n",
    "            worker_forward(layer_idx, inputs)\n",
    "            wait_for_file(f\"data/activations_layer_{layer_idx}.pt\")\n",
    "            inputs = load_from_disk(f\"data/activations_layer_{layer_idx}.pt\")\n",
    "\n",
    "        worker_final_logits(inputs)\n",
    "        wait_for_file(\"data/logits.pt\")\n",
    "        logits = load_from_disk(\"data/logits.pt\")\n",
    "        \n",
    "        loss = F.cross_entropy(logits.view(-1, logits.size(-1)), batch.view(-1), ignore_index=tokenizer.pad_id)\n",
    "        loss = loss / gradient_accumulation_steps\n",
    "        epoch_loss += loss.item() * gradient_accumulation_steps\n",
    "\n",
    "        logits.retain_grad()\n",
    "        loss.backward()\n",
    "        error = logits.grad\n",
    "        for layer_idx in reversed(range(6)):\n",
    "            worker_backward(layer_idx, error)\n",
    "            wait_for_file(f\"data/error_layer_{layer_idx}.pt\")\n",
    "            error_grads = load_from_disk(f\"data/error_layer_{layer_idx}.pt\")\n",
    "            print(\"ERROR GRADS SHAPE: \", error_grads[0].shape)\n",
    "            if error_grads is None or len(error_grads) != 1:\n",
    "                print(\"ERROR GRADS: \", error_grads)\n",
    "                raise ValueError(f\"Failed to load error and grads from {f'data/error_layer_{layer_idx}.pt'}\")\n",
    "            error, grads = error_grads\n",
    "            update_layer(layer_idx, grads)\n",
    "\n",
    "    except Exception as e:\n",
    "        logging.error(f\"Failed to process and save batch: {e}\")\n",
    "        raise\n",
    "\n",
    "def worker_forward(layer_idx, inputs):\n",
    "    save_to_disk(inputs, f\"data/inputs_layer_{layer_idx}.pt\")\n",
    "    os.system(f\"python worker.py --task forward --layer_idx {layer_idx} --inputs data/inputs_layer_{layer_idx}.pt\")\n",
    "\n",
    "def worker_backward(layer_idx, error):\n",
    "    save_to_disk(error, f\"data/error_layer_{layer_idx}.pt\")\n",
    "    os.system(f\"python worker.py --task backward --layer_idx {layer_idx} --error data/error_layer_{layer_idx}.pt\")\n",
    "\n",
    "def worker_final_logits(inputs):\n",
    "    save_to_disk(inputs, \"data/final_inputs.pt\")\n",
    "    os.system(f\"python worker.py --task final_logits --inputs data/final_inputs.pt\")\n",
    "\n",
    "def update_layer(layer_idx, grads):\n",
    "    state_dict = load_layer_state_dict(f\"data/layer_{layer_idx}.pt\")\n",
    "    if state_dict is None:\n",
    "        raise ValueError(f\"Failed to load state dict for layer {layer_idx}\")\n",
    "    for param, grad in zip(state_dict.values(), grads):\n",
    "        param.data -= grad\n",
    "    save_layer_state_dict(state_dict, f\"data/layer_{layer_idx}.pt\")\n",
    "\n",
    "if __name__ == \"__main__\":\n",
    "    main()\n"
   ]
  }
 ],
 "metadata": {
  "kernelspec": {
   "display_name": "base",
   "language": "python",
   "name": "python3"
  },
  "language_info": {
   "codemirror_mode": {
    "name": "ipython",
    "version": 3
   },
   "file_extension": ".py",
   "mimetype": "text/x-python",
   "name": "python",
   "nbconvert_exporter": "python",
   "pygments_lexer": "ipython3",
   "version": "3.11.5"
  }
 },
 "nbformat": 4,
 "nbformat_minor": 2
}
