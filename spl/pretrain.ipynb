{
 "cells": [
  {
   "cell_type": "code",
   "execution_count": 1,
   "metadata": {},
   "outputs": [
    {
     "name": "stdout",
     "output_type": "stream",
     "text": [
      "Requirement already satisfied: jupyter in /Users/ibrahim/anaconda3/lib/python3.11/site-packages (1.0.0)\n",
      "Requirement already satisfied: ipywidgets in /Users/ibrahim/anaconda3/lib/python3.11/site-packages (8.1.2)\n",
      "Requirement already satisfied: notebook in /Users/ibrahim/anaconda3/lib/python3.11/site-packages (from jupyter) (6.5.4)\n",
      "Requirement already satisfied: qtconsole in /Users/ibrahim/anaconda3/lib/python3.11/site-packages (from jupyter) (5.4.2)\n",
      "Requirement already satisfied: jupyter-console in /Users/ibrahim/anaconda3/lib/python3.11/site-packages (from jupyter) (6.6.3)\n",
      "Requirement already satisfied: nbconvert in /Users/ibrahim/anaconda3/lib/python3.11/site-packages (from jupyter) (6.5.4)\n",
      "Requirement already satisfied: ipykernel in /Users/ibrahim/anaconda3/lib/python3.11/site-packages (from jupyter) (6.25.0)\n",
      "Requirement already satisfied: comm>=0.1.3 in /Users/ibrahim/anaconda3/lib/python3.11/site-packages (from ipywidgets) (0.2.2)\n",
      "Requirement already satisfied: ipython>=6.1.0 in /Users/ibrahim/anaconda3/lib/python3.11/site-packages (from ipywidgets) (8.15.0)\n",
      "Requirement already satisfied: traitlets>=4.3.1 in /Users/ibrahim/anaconda3/lib/python3.11/site-packages (from ipywidgets) (5.7.1)\n",
      "Requirement already satisfied: widgetsnbextension~=4.0.10 in /Users/ibrahim/anaconda3/lib/python3.11/site-packages (from ipywidgets) (4.0.10)\n",
      "Requirement already satisfied: jupyterlab-widgets~=3.0.10 in /Users/ibrahim/anaconda3/lib/python3.11/site-packages (from ipywidgets) (3.0.10)\n",
      "Requirement already satisfied: backcall in /Users/ibrahim/anaconda3/lib/python3.11/site-packages (from ipython>=6.1.0->ipywidgets) (0.2.0)\n",
      "Requirement already satisfied: decorator in /Users/ibrahim/anaconda3/lib/python3.11/site-packages (from ipython>=6.1.0->ipywidgets) (5.1.1)\n",
      "Requirement already satisfied: jedi>=0.16 in /Users/ibrahim/anaconda3/lib/python3.11/site-packages (from ipython>=6.1.0->ipywidgets) (0.18.1)\n",
      "Requirement already satisfied: matplotlib-inline in /Users/ibrahim/anaconda3/lib/python3.11/site-packages (from ipython>=6.1.0->ipywidgets) (0.1.6)\n",
      "Requirement already satisfied: pickleshare in /Users/ibrahim/anaconda3/lib/python3.11/site-packages (from ipython>=6.1.0->ipywidgets) (0.7.5)\n",
      "Requirement already satisfied: prompt-toolkit!=3.0.37,<3.1.0,>=3.0.30 in /Users/ibrahim/anaconda3/lib/python3.11/site-packages (from ipython>=6.1.0->ipywidgets) (3.0.36)\n",
      "Requirement already satisfied: pygments>=2.4.0 in /Users/ibrahim/anaconda3/lib/python3.11/site-packages (from ipython>=6.1.0->ipywidgets) (2.15.1)\n",
      "Requirement already satisfied: stack-data in /Users/ibrahim/anaconda3/lib/python3.11/site-packages (from ipython>=6.1.0->ipywidgets) (0.2.0)\n",
      "Requirement already satisfied: pexpect>4.3 in /Users/ibrahim/anaconda3/lib/python3.11/site-packages (from ipython>=6.1.0->ipywidgets) (4.8.0)\n",
      "Requirement already satisfied: appnope in /Users/ibrahim/anaconda3/lib/python3.11/site-packages (from ipython>=6.1.0->ipywidgets) (0.1.2)\n",
      "Requirement already satisfied: debugpy>=1.6.5 in /Users/ibrahim/anaconda3/lib/python3.11/site-packages (from ipykernel->jupyter) (1.6.7)\n",
      "Requirement already satisfied: jupyter-client>=6.1.12 in /Users/ibrahim/anaconda3/lib/python3.11/site-packages (from ipykernel->jupyter) (7.4.9)\n",
      "Requirement already satisfied: jupyter-core!=5.0.*,>=4.12 in /Users/ibrahim/anaconda3/lib/python3.11/site-packages (from ipykernel->jupyter) (5.3.0)\n",
      "Requirement already satisfied: nest-asyncio in /Users/ibrahim/anaconda3/lib/python3.11/site-packages (from ipykernel->jupyter) (1.5.6)\n",
      "Requirement already satisfied: packaging in /Users/ibrahim/anaconda3/lib/python3.11/site-packages (from ipykernel->jupyter) (23.1)\n",
      "Requirement already satisfied: psutil in /Users/ibrahim/anaconda3/lib/python3.11/site-packages (from ipykernel->jupyter) (5.9.0)\n",
      "Requirement already satisfied: pyzmq>=20 in /Users/ibrahim/anaconda3/lib/python3.11/site-packages (from ipykernel->jupyter) (23.2.0)\n",
      "Requirement already satisfied: tornado>=6.1 in /Users/ibrahim/anaconda3/lib/python3.11/site-packages (from ipykernel->jupyter) (6.3.2)\n",
      "Requirement already satisfied: lxml in /Users/ibrahim/anaconda3/lib/python3.11/site-packages (from nbconvert->jupyter) (4.9.3)\n",
      "Requirement already satisfied: beautifulsoup4 in /Users/ibrahim/anaconda3/lib/python3.11/site-packages (from nbconvert->jupyter) (4.12.2)\n",
      "Requirement already satisfied: bleach in /Users/ibrahim/anaconda3/lib/python3.11/site-packages (from nbconvert->jupyter) (4.1.0)\n",
      "Requirement already satisfied: defusedxml in /Users/ibrahim/anaconda3/lib/python3.11/site-packages (from nbconvert->jupyter) (0.7.1)\n",
      "Requirement already satisfied: entrypoints>=0.2.2 in /Users/ibrahim/anaconda3/lib/python3.11/site-packages (from nbconvert->jupyter) (0.4)\n",
      "Requirement already satisfied: jinja2>=3.0 in /Users/ibrahim/anaconda3/lib/python3.11/site-packages (from nbconvert->jupyter) (3.1.2)\n",
      "Requirement already satisfied: jupyterlab-pygments in /Users/ibrahim/anaconda3/lib/python3.11/site-packages (from nbconvert->jupyter) (0.1.2)\n",
      "Requirement already satisfied: MarkupSafe>=2.0 in /Users/ibrahim/anaconda3/lib/python3.11/site-packages (from nbconvert->jupyter) (2.1.1)\n",
      "Requirement already satisfied: mistune<2,>=0.8.1 in /Users/ibrahim/anaconda3/lib/python3.11/site-packages (from nbconvert->jupyter) (0.8.4)\n",
      "Requirement already satisfied: nbclient>=0.5.0 in /Users/ibrahim/anaconda3/lib/python3.11/site-packages (from nbconvert->jupyter) (0.5.13)\n",
      "Requirement already satisfied: nbformat>=5.1 in /Users/ibrahim/anaconda3/lib/python3.11/site-packages (from nbconvert->jupyter) (5.9.2)\n",
      "Requirement already satisfied: pandocfilters>=1.4.1 in /Users/ibrahim/anaconda3/lib/python3.11/site-packages (from nbconvert->jupyter) (1.5.0)\n",
      "Requirement already satisfied: tinycss2 in /Users/ibrahim/anaconda3/lib/python3.11/site-packages (from nbconvert->jupyter) (1.2.1)\n",
      "Requirement already satisfied: argon2-cffi in /Users/ibrahim/anaconda3/lib/python3.11/site-packages (from notebook->jupyter) (21.3.0)\n",
      "Requirement already satisfied: ipython-genutils in /Users/ibrahim/anaconda3/lib/python3.11/site-packages (from notebook->jupyter) (0.2.0)\n",
      "Requirement already satisfied: Send2Trash>=1.8.0 in /Users/ibrahim/anaconda3/lib/python3.11/site-packages (from notebook->jupyter) (1.8.0)\n",
      "Requirement already satisfied: terminado>=0.8.3 in /Users/ibrahim/anaconda3/lib/python3.11/site-packages (from notebook->jupyter) (0.17.1)\n",
      "Requirement already satisfied: prometheus-client in /Users/ibrahim/anaconda3/lib/python3.11/site-packages (from notebook->jupyter) (0.14.1)\n",
      "Requirement already satisfied: nbclassic>=0.4.7 in /Users/ibrahim/anaconda3/lib/python3.11/site-packages (from notebook->jupyter) (0.5.5)\n",
      "Requirement already satisfied: qtpy>=2.0.1 in /Users/ibrahim/anaconda3/lib/python3.11/site-packages (from qtconsole->jupyter) (2.2.0)\n",
      "Requirement already satisfied: parso<0.9.0,>=0.8.0 in /Users/ibrahim/anaconda3/lib/python3.11/site-packages (from jedi>=0.16->ipython>=6.1.0->ipywidgets) (0.8.3)\n",
      "Requirement already satisfied: python-dateutil>=2.8.2 in /Users/ibrahim/anaconda3/lib/python3.11/site-packages (from jupyter-client>=6.1.12->ipykernel->jupyter) (2.8.2)\n",
      "Requirement already satisfied: platformdirs>=2.5 in /Users/ibrahim/anaconda3/lib/python3.11/site-packages (from jupyter-core!=5.0.*,>=4.12->ipykernel->jupyter) (3.10.0)\n",
      "Requirement already satisfied: jupyter-server>=1.8 in /Users/ibrahim/anaconda3/lib/python3.11/site-packages (from nbclassic>=0.4.7->notebook->jupyter) (1.23.4)\n",
      "Requirement already satisfied: notebook-shim>=0.1.0 in /Users/ibrahim/anaconda3/lib/python3.11/site-packages (from nbclassic>=0.4.7->notebook->jupyter) (0.2.2)\n",
      "Requirement already satisfied: fastjsonschema in /Users/ibrahim/anaconda3/lib/python3.11/site-packages (from nbformat>=5.1->nbconvert->jupyter) (2.16.2)\n",
      "Requirement already satisfied: jsonschema>=2.6 in /Users/ibrahim/anaconda3/lib/python3.11/site-packages (from nbformat>=5.1->nbconvert->jupyter) (4.17.3)\n",
      "Requirement already satisfied: ptyprocess>=0.5 in /Users/ibrahim/anaconda3/lib/python3.11/site-packages (from pexpect>4.3->ipython>=6.1.0->ipywidgets) (0.7.0)\n",
      "Requirement already satisfied: wcwidth in /Users/ibrahim/anaconda3/lib/python3.11/site-packages (from prompt-toolkit!=3.0.37,<3.1.0,>=3.0.30->ipython>=6.1.0->ipywidgets) (0.2.5)\n",
      "Requirement already satisfied: argon2-cffi-bindings in /Users/ibrahim/anaconda3/lib/python3.11/site-packages (from argon2-cffi->notebook->jupyter) (21.2.0)\n",
      "Requirement already satisfied: soupsieve>1.2 in /Users/ibrahim/anaconda3/lib/python3.11/site-packages (from beautifulsoup4->nbconvert->jupyter) (2.4)\n",
      "Requirement already satisfied: six>=1.9.0 in /Users/ibrahim/anaconda3/lib/python3.11/site-packages (from bleach->nbconvert->jupyter) (1.16.0)\n",
      "Requirement already satisfied: webencodings in /Users/ibrahim/anaconda3/lib/python3.11/site-packages (from bleach->nbconvert->jupyter) (0.5.1)\n",
      "Requirement already satisfied: executing in /Users/ibrahim/anaconda3/lib/python3.11/site-packages (from stack-data->ipython>=6.1.0->ipywidgets) (0.8.3)\n",
      "Requirement already satisfied: asttokens in /Users/ibrahim/anaconda3/lib/python3.11/site-packages (from stack-data->ipython>=6.1.0->ipywidgets) (2.0.5)\n",
      "Requirement already satisfied: pure-eval in /Users/ibrahim/anaconda3/lib/python3.11/site-packages (from stack-data->ipython>=6.1.0->ipywidgets) (0.2.2)\n",
      "Requirement already satisfied: attrs>=17.4.0 in /Users/ibrahim/anaconda3/lib/python3.11/site-packages (from jsonschema>=2.6->nbformat>=5.1->nbconvert->jupyter) (22.1.0)\n",
      "Requirement already satisfied: pyrsistent!=0.17.0,!=0.17.1,!=0.17.2,>=0.14.0 in /Users/ibrahim/anaconda3/lib/python3.11/site-packages (from jsonschema>=2.6->nbformat>=5.1->nbconvert->jupyter) (0.18.0)\n",
      "Requirement already satisfied: anyio<4,>=3.1.0 in /Users/ibrahim/anaconda3/lib/python3.11/site-packages (from jupyter-server>=1.8->nbclassic>=0.4.7->notebook->jupyter) (3.5.0)\n",
      "Requirement already satisfied: websocket-client in /Users/ibrahim/anaconda3/lib/python3.11/site-packages (from jupyter-server>=1.8->nbclassic>=0.4.7->notebook->jupyter) (0.58.0)\n",
      "Requirement already satisfied: cffi>=1.0.1 in /Users/ibrahim/anaconda3/lib/python3.11/site-packages (from argon2-cffi-bindings->argon2-cffi->notebook->jupyter) (1.15.1)\n",
      "Requirement already satisfied: idna>=2.8 in /Users/ibrahim/anaconda3/lib/python3.11/site-packages (from anyio<4,>=3.1.0->jupyter-server>=1.8->nbclassic>=0.4.7->notebook->jupyter) (3.4)\n",
      "Requirement already satisfied: sniffio>=1.1 in /Users/ibrahim/anaconda3/lib/python3.11/site-packages (from anyio<4,>=3.1.0->jupyter-server>=1.8->nbclassic>=0.4.7->notebook->jupyter) (1.2.0)\n",
      "Requirement already satisfied: pycparser in /Users/ibrahim/anaconda3/lib/python3.11/site-packages (from cffi>=1.0.1->argon2-cffi-bindings->argon2-cffi->notebook->jupyter) (2.21)\n",
      "Note: you may need to restart the kernel to use updated packages.\n",
      "Requirement already satisfied: torch in /Users/ibrahim/anaconda3/lib/python3.11/site-packages (2.3.0)\n",
      "Requirement already satisfied: fairscale in /Users/ibrahim/anaconda3/lib/python3.11/site-packages (0.4.13)\n",
      "Requirement already satisfied: tiktoken==0.4.0 in /Users/ibrahim/anaconda3/lib/python3.11/site-packages (0.4.0)\n",
      "Requirement already satisfied: fair in /Users/ibrahim/anaconda3/lib/python3.11/site-packages (2.1.4)\n",
      "Requirement already satisfied: blobfile in /Users/ibrahim/anaconda3/lib/python3.11/site-packages (2.1.1)\n",
      "Requirement already satisfied: datasets in /Users/ibrahim/anaconda3/lib/python3.11/site-packages (2.12.0)\n",
      "Requirement already satisfied: mwparserfromhell in /Users/ibrahim/anaconda3/lib/python3.11/site-packages (0.6.6)\n",
      "Requirement already satisfied: regex>=2022.1.18 in /Users/ibrahim/anaconda3/lib/python3.11/site-packages (from tiktoken==0.4.0) (2022.7.9)\n",
      "Requirement already satisfied: requests>=2.26.0 in /Users/ibrahim/anaconda3/lib/python3.11/site-packages (from tiktoken==0.4.0) (2.31.0)\n",
      "Requirement already satisfied: filelock in /Users/ibrahim/anaconda3/lib/python3.11/site-packages (from torch) (3.9.0)\n",
      "Requirement already satisfied: typing-extensions>=4.8.0 in /Users/ibrahim/anaconda3/lib/python3.11/site-packages (from torch) (4.11.0)\n",
      "Requirement already satisfied: sympy in /Users/ibrahim/anaconda3/lib/python3.11/site-packages (from torch) (1.11.1)\n",
      "Requirement already satisfied: networkx in /Users/ibrahim/anaconda3/lib/python3.11/site-packages (from torch) (3.1)\n",
      "Requirement already satisfied: jinja2 in /Users/ibrahim/anaconda3/lib/python3.11/site-packages (from torch) (3.1.2)\n",
      "Requirement already satisfied: fsspec in /Users/ibrahim/anaconda3/lib/python3.11/site-packages (from torch) (2023.4.0)\n",
      "Requirement already satisfied: numpy>=1.22.0 in /Users/ibrahim/anaconda3/lib/python3.11/site-packages (from fairscale) (1.24.3)\n",
      "Requirement already satisfied: matplotlib in /Users/ibrahim/anaconda3/lib/python3.11/site-packages (from fair) (3.7.2)\n",
      "Requirement already satisfied: pandas in /Users/ibrahim/anaconda3/lib/python3.11/site-packages (from fair) (2.0.3)\n",
      "Requirement already satisfied: pooch in /Users/ibrahim/anaconda3/lib/python3.11/site-packages (from fair) (1.8.1)\n",
      "Requirement already satisfied: scipy in /Users/ibrahim/anaconda3/lib/python3.11/site-packages (from fair) (1.11.1)\n",
      "Requirement already satisfied: tqdm in /Users/ibrahim/anaconda3/lib/python3.11/site-packages (from fair) (4.65.0)\n",
      "Requirement already satisfied: xarray in /Users/ibrahim/anaconda3/lib/python3.11/site-packages (from fair) (2023.6.0)\n",
      "Requirement already satisfied: pycryptodomex~=3.8 in /Users/ibrahim/anaconda3/lib/python3.11/site-packages (from blobfile) (3.20.0)\n",
      "Requirement already satisfied: urllib3<3,>=1.25.3 in /Users/ibrahim/anaconda3/lib/python3.11/site-packages (from blobfile) (1.26.16)\n",
      "Requirement already satisfied: lxml~=4.9 in /Users/ibrahim/anaconda3/lib/python3.11/site-packages (from blobfile) (4.9.3)\n",
      "Requirement already satisfied: pyarrow>=8.0.0 in /Users/ibrahim/anaconda3/lib/python3.11/site-packages (from datasets) (11.0.0)\n",
      "Requirement already satisfied: dill<0.3.7,>=0.3.0 in /Users/ibrahim/anaconda3/lib/python3.11/site-packages (from datasets) (0.3.6)\n",
      "Requirement already satisfied: xxhash in /Users/ibrahim/anaconda3/lib/python3.11/site-packages (from datasets) (2.0.2)\n",
      "Requirement already satisfied: multiprocess in /Users/ibrahim/anaconda3/lib/python3.11/site-packages (from datasets) (0.70.14)\n",
      "Requirement already satisfied: aiohttp in /Users/ibrahim/anaconda3/lib/python3.11/site-packages (from datasets) (3.8.5)\n",
      "Requirement already satisfied: huggingface-hub<1.0.0,>=0.11.0 in /Users/ibrahim/anaconda3/lib/python3.11/site-packages (from datasets) (0.15.1)\n",
      "Requirement already satisfied: packaging in /Users/ibrahim/anaconda3/lib/python3.11/site-packages (from datasets) (23.1)\n",
      "Requirement already satisfied: responses<0.19 in /Users/ibrahim/anaconda3/lib/python3.11/site-packages (from datasets) (0.13.3)\n",
      "Requirement already satisfied: pyyaml>=5.1 in /Users/ibrahim/anaconda3/lib/python3.11/site-packages (from datasets) (6.0)\n",
      "Requirement already satisfied: attrs>=17.3.0 in /Users/ibrahim/anaconda3/lib/python3.11/site-packages (from aiohttp->datasets) (22.1.0)\n",
      "Requirement already satisfied: charset-normalizer<4.0,>=2.0 in /Users/ibrahim/anaconda3/lib/python3.11/site-packages (from aiohttp->datasets) (2.0.4)\n",
      "Requirement already satisfied: multidict<7.0,>=4.5 in /Users/ibrahim/anaconda3/lib/python3.11/site-packages (from aiohttp->datasets) (6.0.2)\n",
      "Requirement already satisfied: async-timeout<5.0,>=4.0.0a3 in /Users/ibrahim/anaconda3/lib/python3.11/site-packages (from aiohttp->datasets) (4.0.2)\n",
      "Requirement already satisfied: yarl<2.0,>=1.0 in /Users/ibrahim/anaconda3/lib/python3.11/site-packages (from aiohttp->datasets) (1.8.1)\n",
      "Requirement already satisfied: frozenlist>=1.1.1 in /Users/ibrahim/anaconda3/lib/python3.11/site-packages (from aiohttp->datasets) (1.3.3)\n",
      "Requirement already satisfied: aiosignal>=1.1.2 in /Users/ibrahim/anaconda3/lib/python3.11/site-packages (from aiohttp->datasets) (1.2.0)\n",
      "Requirement already satisfied: idna<4,>=2.5 in /Users/ibrahim/anaconda3/lib/python3.11/site-packages (from requests>=2.26.0->tiktoken==0.4.0) (3.4)\n",
      "Requirement already satisfied: certifi>=2017.4.17 in /Users/ibrahim/anaconda3/lib/python3.11/site-packages (from requests>=2.26.0->tiktoken==0.4.0) (2023.11.17)\n",
      "Requirement already satisfied: six in /Users/ibrahim/anaconda3/lib/python3.11/site-packages (from responses<0.19->datasets) (1.16.0)\n",
      "Requirement already satisfied: MarkupSafe>=2.0 in /Users/ibrahim/anaconda3/lib/python3.11/site-packages (from jinja2->torch) (2.1.1)\n",
      "Requirement already satisfied: contourpy>=1.0.1 in /Users/ibrahim/anaconda3/lib/python3.11/site-packages (from matplotlib->fair) (1.0.5)\n",
      "Requirement already satisfied: cycler>=0.10 in /Users/ibrahim/anaconda3/lib/python3.11/site-packages (from matplotlib->fair) (0.11.0)\n",
      "Requirement already satisfied: fonttools>=4.22.0 in /Users/ibrahim/anaconda3/lib/python3.11/site-packages (from matplotlib->fair) (4.25.0)\n",
      "Requirement already satisfied: kiwisolver>=1.0.1 in /Users/ibrahim/anaconda3/lib/python3.11/site-packages (from matplotlib->fair) (1.4.4)\n",
      "Requirement already satisfied: pillow>=6.2.0 in /Users/ibrahim/anaconda3/lib/python3.11/site-packages (from matplotlib->fair) (10.0.1)\n",
      "Requirement already satisfied: pyparsing<3.1,>=2.3.1 in /Users/ibrahim/anaconda3/lib/python3.11/site-packages (from matplotlib->fair) (3.0.9)\n",
      "Requirement already satisfied: python-dateutil>=2.7 in /Users/ibrahim/anaconda3/lib/python3.11/site-packages (from matplotlib->fair) (2.8.2)\n",
      "Requirement already satisfied: pytz>=2020.1 in /Users/ibrahim/anaconda3/lib/python3.11/site-packages (from pandas->fair) (2023.3.post1)\n",
      "Requirement already satisfied: tzdata>=2022.1 in /Users/ibrahim/anaconda3/lib/python3.11/site-packages (from pandas->fair) (2023.3)\n",
      "Requirement already satisfied: platformdirs>=2.5.0 in /Users/ibrahim/anaconda3/lib/python3.11/site-packages (from pooch->fair) (3.10.0)\n",
      "Requirement already satisfied: mpmath>=0.19 in /Users/ibrahim/anaconda3/lib/python3.11/site-packages (from sympy->torch) (1.3.0)\n",
      "Note: you may need to restart the kernel to use updated packages.\n"
     ]
    }
   ],
   "source": [
    "%pip install --upgrade jupyter ipywidgets\n",
    "%pip install torch fairscale tiktoken==0.4.0 fair blobfile datasets mwparserfromhell"
   ]
  },
  {
   "cell_type": "code",
   "execution_count": 2,
   "metadata": {},
   "outputs": [
    {
     "name": "stderr",
     "output_type": "stream",
     "text": [
      "2024-05-16 19:10:07,422 - INFO - NumExpr defaulting to 8 threads.\n"
     ]
    },
    {
     "name": "stdout",
     "output_type": "stream",
     "text": [
      "Layer state dict saved to data/layer_0.pt\n",
      "Layer state dict saved to data/layer_1.pt\n",
      "Layer state dict saved to data/layer_2.pt\n",
      "Layer state dict saved to data/layer_3.pt\n",
      "Layer state dict saved to data/layer_4.pt\n",
      "Layer state dict saved to data/layer_5.pt\n"
     ]
    },
    {
     "name": "stderr",
     "output_type": "stream",
     "text": [
      "Epoch 1/3: 0it [00:00, ?it/s]2024-05-16 19:10:09,606 - INFO - generating examples from = https://dumps.wikimedia.org/enwiki/20240401/enwiki-20240401-pages-articles-multistream1.xml-p1p41242.bz2\n"
     ]
    },
    {
     "name": "stdout",
     "output_type": "stream",
     "text": [
      "Extracting content from https://dumps.wikimedia.org/enwiki/20240401/enwiki-20240401-pages-articles-multistream1.xml-p1p41242.bz2\n",
      "Saved to data/batch.pt\n"
     ]
    },
    {
     "name": "stderr",
     "output_type": "stream",
     "text": [
      "2024-05-16 19:10:46,710 - INFO - Loaded from data/batch.pt\n",
      "Saved to data/inputs.pt\n",
      "\n"
     ]
    },
    {
     "name": "stdout",
     "output_type": "stream",
     "text": [
      "Loaded from data/inputs.pt\n",
      "Saved to data/inputs_layer_0.pt\n"
     ]
    },
    {
     "name": "stderr",
     "output_type": "stream",
     "text": [
      "2024-05-16 19:10:47,903 - INFO - Layer state dict loaded from data/layer_0.pt\n",
      "Loaded from data/inputs_layer_0.pt\n",
      "Saved to data/activations_layer_0.pt\n",
      "\n"
     ]
    },
    {
     "name": "stdout",
     "output_type": "stream",
     "text": [
      "Loaded from data/activations_layer_0.pt\n",
      "Saved to data/inputs_layer_1.pt\n"
     ]
    },
    {
     "name": "stderr",
     "output_type": "stream",
     "text": [
      "2024-05-16 19:10:49,046 - INFO - Layer state dict loaded from data/layer_1.pt\n",
      "Loaded from data/inputs_layer_1.pt\n",
      "Saved to data/activations_layer_1.pt\n",
      "\n"
     ]
    },
    {
     "name": "stdout",
     "output_type": "stream",
     "text": [
      "Loaded from data/activations_layer_1.pt\n",
      "Saved to data/inputs_layer_2.pt\n"
     ]
    },
    {
     "name": "stderr",
     "output_type": "stream",
     "text": [
      "2024-05-16 19:10:50,281 - INFO - Layer state dict loaded from data/layer_2.pt\n",
      "Loaded from data/inputs_layer_2.pt\n",
      "Saved to data/activations_layer_2.pt\n",
      "\n"
     ]
    },
    {
     "name": "stdout",
     "output_type": "stream",
     "text": [
      "Loaded from data/activations_layer_2.pt\n",
      "Saved to data/inputs_layer_3.pt\n"
     ]
    },
    {
     "name": "stderr",
     "output_type": "stream",
     "text": [
      "2024-05-16 19:10:51,798 - INFO - Layer state dict loaded from data/layer_3.pt\n",
      "Loaded from data/inputs_layer_3.pt\n",
      "Saved to data/activations_layer_3.pt\n",
      "\n"
     ]
    },
    {
     "name": "stdout",
     "output_type": "stream",
     "text": [
      "Loaded from data/activations_layer_3.pt\n",
      "Saved to data/inputs_layer_4.pt\n"
     ]
    },
    {
     "name": "stderr",
     "output_type": "stream",
     "text": [
      "2024-05-16 19:10:53,044 - INFO - Layer state dict loaded from data/layer_4.pt\n",
      "Loaded from data/inputs_layer_4.pt\n",
      "Saved to data/activations_layer_4.pt\n",
      "\n"
     ]
    },
    {
     "name": "stdout",
     "output_type": "stream",
     "text": [
      "Loaded from data/activations_layer_4.pt\n",
      "Saved to data/inputs_layer_5.pt\n"
     ]
    },
    {
     "name": "stderr",
     "output_type": "stream",
     "text": [
      "2024-05-16 19:10:54,171 - INFO - Layer state dict loaded from data/layer_5.pt\n",
      "Loaded from data/inputs_layer_5.pt\n",
      "Saved to data/activations_layer_5.pt\n",
      "\n"
     ]
    },
    {
     "name": "stdout",
     "output_type": "stream",
     "text": [
      "Loaded from data/activations_layer_5.pt\n",
      "Saved to data/final_inputs.pt\n"
     ]
    },
    {
     "name": "stderr",
     "output_type": "stream",
     "text": [
      "2024-05-16 19:10:56,799 - INFO - Loaded from data/final_inputs.pt\n",
      "Saved to data/logits.pt\n",
      "\n"
     ]
    },
    {
     "name": "stdout",
     "output_type": "stream",
     "text": [
      "Loaded from data/logits.pt\n",
      "Saved to data/input_error_layer_5.pt\n"
     ]
    },
    {
     "name": "stderr",
     "output_type": "stream",
     "text": [
      "2024-05-16 19:11:34,347 - ERROR - Command 'python3 worker.py --task backward --layer_idx 5 --error data/input_error_layer_5.pt' failed with error: /Users/ibrahim/anaconda3/lib/python3.11/site-packages/torch/amp/grad_scaler.py:131: UserWarning: torch.cuda.amp.GradScaler is enabled, but CUDA is not available.  Disabling.\n",
      "  warnings.warn(\n",
      "/Users/ibrahim/anaconda3/lib/python3.11/site-packages/torch/amp/autocast_mode.py:250: UserWarning: User provided device_type of 'cuda', but CUDA is not available. Disabling\n",
      "  warnings.warn(\n",
      "\n",
      "2024-05-16 19:11:34,381 - ERROR - Failed to process and save batch: Command 'python3 worker.py --task backward --layer_idx 5 --error data/input_error_layer_5.pt' died with <Signals.SIGKILL: 9>.\n",
      "2024-05-16 19:11:34,384 - ERROR - Error processing batch at step 0: Command 'python3 worker.py --task backward --layer_idx 5 --error data/input_error_layer_5.pt' died with <Signals.SIGKILL: 9>.\n",
      "Epoch 1/3: 1it [01:24, 84.80s/it]"
     ]
    },
    {
     "name": "stdout",
     "output_type": "stream",
     "text": [
      "Saved to data/batch.pt\n"
     ]
    },
    {
     "name": "stderr",
     "output_type": "stream",
     "text": [
      "2024-05-16 19:11:36,997 - INFO - Loaded from data/batch.pt\n",
      "Saved to data/inputs.pt\n",
      "\n"
     ]
    },
    {
     "name": "stdout",
     "output_type": "stream",
     "text": [
      "Loaded from data/inputs.pt\n",
      "Saved to data/inputs_layer_0.pt\n"
     ]
    },
    {
     "name": "stderr",
     "output_type": "stream",
     "text": [
      "2024-05-16 19:11:38,204 - INFO - Layer state dict loaded from data/layer_0.pt\n",
      "Loaded from data/inputs_layer_0.pt\n",
      "Saved to data/activations_layer_0.pt\n",
      "\n"
     ]
    },
    {
     "name": "stdout",
     "output_type": "stream",
     "text": [
      "Loaded from data/activations_layer_0.pt\n",
      "Saved to data/inputs_layer_1.pt\n"
     ]
    },
    {
     "name": "stderr",
     "output_type": "stream",
     "text": [
      "2024-05-16 19:11:39,390 - INFO - Layer state dict loaded from data/layer_1.pt\n",
      "Loaded from data/inputs_layer_1.pt\n",
      "Saved to data/activations_layer_1.pt\n",
      "\n"
     ]
    },
    {
     "name": "stdout",
     "output_type": "stream",
     "text": [
      "Loaded from data/activations_layer_1.pt\n",
      "Saved to data/inputs_layer_2.pt\n"
     ]
    },
    {
     "name": "stderr",
     "output_type": "stream",
     "text": [
      "2024-05-16 19:11:40,563 - INFO - Layer state dict loaded from data/layer_2.pt\n",
      "Loaded from data/inputs_layer_2.pt\n",
      "Saved to data/activations_layer_2.pt\n",
      "\n"
     ]
    },
    {
     "name": "stdout",
     "output_type": "stream",
     "text": [
      "Loaded from data/activations_layer_2.pt\n",
      "Saved to data/inputs_layer_3.pt\n"
     ]
    },
    {
     "name": "stderr",
     "output_type": "stream",
     "text": [
      "2024-05-16 19:11:41,713 - INFO - Layer state dict loaded from data/layer_3.pt\n",
      "Loaded from data/inputs_layer_3.pt\n",
      "Saved to data/activations_layer_3.pt\n",
      "\n"
     ]
    },
    {
     "name": "stdout",
     "output_type": "stream",
     "text": [
      "Loaded from data/activations_layer_3.pt\n",
      "Saved to data/inputs_layer_4.pt\n"
     ]
    },
    {
     "name": "stderr",
     "output_type": "stream",
     "text": [
      "2024-05-16 19:11:42,859 - INFO - Layer state dict loaded from data/layer_4.pt\n",
      "Loaded from data/inputs_layer_4.pt\n",
      "Saved to data/activations_layer_4.pt\n",
      "\n"
     ]
    },
    {
     "name": "stdout",
     "output_type": "stream",
     "text": [
      "Loaded from data/activations_layer_4.pt\n",
      "Saved to data/inputs_layer_5.pt\n"
     ]
    },
    {
     "name": "stderr",
     "output_type": "stream",
     "text": [
      "2024-05-16 19:11:43,987 - INFO - Layer state dict loaded from data/layer_5.pt\n",
      "Loaded from data/inputs_layer_5.pt\n",
      "Saved to data/activations_layer_5.pt\n",
      "\n"
     ]
    },
    {
     "name": "stdout",
     "output_type": "stream",
     "text": [
      "Loaded from data/activations_layer_5.pt\n",
      "Saved to data/final_inputs.pt\n"
     ]
    },
    {
     "name": "stderr",
     "output_type": "stream",
     "text": [
      "2024-05-16 19:11:46,518 - INFO - Loaded from data/final_inputs.pt\n",
      "Saved to data/logits.pt\n",
      "\n"
     ]
    },
    {
     "name": "stdout",
     "output_type": "stream",
     "text": [
      "Loaded from data/logits.pt\n",
      "Saved to data/input_error_layer_5.pt\n"
     ]
    },
    {
     "name": "stderr",
     "output_type": "stream",
     "text": [
      "2024-05-16 19:12:21,787 - ERROR - Command 'python3 worker.py --task backward --layer_idx 5 --error data/input_error_layer_5.pt' failed with error: /Users/ibrahim/anaconda3/lib/python3.11/site-packages/torch/amp/grad_scaler.py:131: UserWarning: torch.cuda.amp.GradScaler is enabled, but CUDA is not available.  Disabling.\n",
      "  warnings.warn(\n",
      "/Users/ibrahim/anaconda3/lib/python3.11/site-packages/torch/amp/autocast_mode.py:250: UserWarning: User provided device_type of 'cuda', but CUDA is not available. Disabling\n",
      "  warnings.warn(\n",
      "\n",
      "2024-05-16 19:12:21,831 - ERROR - Failed to process and save batch: Command 'python3 worker.py --task backward --layer_idx 5 --error data/input_error_layer_5.pt' died with <Signals.SIGKILL: 9>.\n",
      "2024-05-16 19:12:21,833 - ERROR - Error processing batch at step 1: Command 'python3 worker.py --task backward --layer_idx 5 --error data/input_error_layer_5.pt' died with <Signals.SIGKILL: 9>.\n",
      "Epoch 1/3: 2it [02:12, 62.84s/it]"
     ]
    },
    {
     "name": "stdout",
     "output_type": "stream",
     "text": [
      "Saved to data/batch.pt\n"
     ]
    },
    {
     "name": "stderr",
     "output_type": "stream",
     "text": [
      "2024-05-16 19:12:24,635 - INFO - Loaded from data/batch.pt\n",
      "Saved to data/inputs.pt\n",
      "\n"
     ]
    },
    {
     "name": "stdout",
     "output_type": "stream",
     "text": [
      "Loaded from data/inputs.pt\n",
      "Saved to data/inputs_layer_0.pt\n"
     ]
    },
    {
     "name": "stderr",
     "output_type": "stream",
     "text": [
      "2024-05-16 19:12:25,831 - INFO - Layer state dict loaded from data/layer_0.pt\n",
      "Loaded from data/inputs_layer_0.pt\n",
      "Saved to data/activations_layer_0.pt\n",
      "\n"
     ]
    },
    {
     "name": "stdout",
     "output_type": "stream",
     "text": [
      "Loaded from data/activations_layer_0.pt\n",
      "Saved to data/inputs_layer_1.pt\n"
     ]
    },
    {
     "name": "stderr",
     "output_type": "stream",
     "text": [
      "2024-05-16 19:12:27,000 - INFO - Layer state dict loaded from data/layer_1.pt\n",
      "Loaded from data/inputs_layer_1.pt\n",
      "Saved to data/activations_layer_1.pt\n",
      "\n"
     ]
    },
    {
     "name": "stdout",
     "output_type": "stream",
     "text": [
      "Loaded from data/activations_layer_1.pt\n",
      "Saved to data/inputs_layer_2.pt\n"
     ]
    },
    {
     "name": "stderr",
     "output_type": "stream",
     "text": [
      "2024-05-16 19:12:28,163 - INFO - Layer state dict loaded from data/layer_2.pt\n",
      "Loaded from data/inputs_layer_2.pt\n",
      "Saved to data/activations_layer_2.pt\n",
      "\n"
     ]
    },
    {
     "name": "stdout",
     "output_type": "stream",
     "text": [
      "Loaded from data/activations_layer_2.pt\n",
      "Saved to data/inputs_layer_3.pt\n"
     ]
    },
    {
     "name": "stderr",
     "output_type": "stream",
     "text": [
      "2024-05-16 19:12:29,358 - INFO - Layer state dict loaded from data/layer_3.pt\n",
      "Loaded from data/inputs_layer_3.pt\n",
      "Saved to data/activations_layer_3.pt\n",
      "\n"
     ]
    },
    {
     "name": "stdout",
     "output_type": "stream",
     "text": [
      "Loaded from data/activations_layer_3.pt\n",
      "Saved to data/inputs_layer_4.pt\n"
     ]
    },
    {
     "name": "stderr",
     "output_type": "stream",
     "text": [
      "2024-05-16 19:12:30,548 - INFO - Layer state dict loaded from data/layer_4.pt\n",
      "Loaded from data/inputs_layer_4.pt\n",
      "Saved to data/activations_layer_4.pt\n",
      "\n"
     ]
    },
    {
     "name": "stdout",
     "output_type": "stream",
     "text": [
      "Loaded from data/activations_layer_4.pt\n",
      "Saved to data/inputs_layer_5.pt\n"
     ]
    },
    {
     "name": "stderr",
     "output_type": "stream",
     "text": [
      "2024-05-16 19:12:31,730 - INFO - Layer state dict loaded from data/layer_5.pt\n",
      "Loaded from data/inputs_layer_5.pt\n",
      "Saved to data/activations_layer_5.pt\n",
      "\n"
     ]
    },
    {
     "name": "stdout",
     "output_type": "stream",
     "text": [
      "Loaded from data/activations_layer_5.pt\n",
      "Saved to data/final_inputs.pt\n"
     ]
    },
    {
     "name": "stderr",
     "output_type": "stream",
     "text": [
      "2024-05-16 19:12:34,406 - INFO - Loaded from data/final_inputs.pt\n",
      "Saved to data/logits.pt\n",
      "\n"
     ]
    },
    {
     "name": "stdout",
     "output_type": "stream",
     "text": [
      "Loaded from data/logits.pt\n",
      "Saved to data/input_error_layer_5.pt\n"
     ]
    },
    {
     "name": "stderr",
     "output_type": "stream",
     "text": [
      "2024-05-16 19:13:11,613 - ERROR - Command 'python3 worker.py --task backward --layer_idx 5 --error data/input_error_layer_5.pt' failed with error: /Users/ibrahim/anaconda3/lib/python3.11/site-packages/torch/amp/grad_scaler.py:131: UserWarning: torch.cuda.amp.GradScaler is enabled, but CUDA is not available.  Disabling.\n",
      "  warnings.warn(\n",
      "/Users/ibrahim/anaconda3/lib/python3.11/site-packages/torch/amp/autocast_mode.py:250: UserWarning: User provided device_type of 'cuda', but CUDA is not available. Disabling\n",
      "  warnings.warn(\n",
      "\n",
      "2024-05-16 19:13:11,645 - ERROR - Failed to process and save batch: Command 'python3 worker.py --task backward --layer_idx 5 --error data/input_error_layer_5.pt' died with <Signals.SIGKILL: 9>.\n",
      "2024-05-16 19:13:11,646 - ERROR - Error processing batch at step 2: Command 'python3 worker.py --task backward --layer_idx 5 --error data/input_error_layer_5.pt' died with <Signals.SIGKILL: 9>.\n",
      "Epoch 1/3: 3it [03:02, 56.95s/it]"
     ]
    },
    {
     "name": "stdout",
     "output_type": "stream",
     "text": [
      "Saved to data/batch.pt\n"
     ]
    },
    {
     "name": "stderr",
     "output_type": "stream",
     "text": [
      "2024-05-16 19:13:14,879 - INFO - Loaded from data/batch.pt\n",
      "Saved to data/inputs.pt\n",
      "\n"
     ]
    },
    {
     "name": "stdout",
     "output_type": "stream",
     "text": [
      "Loaded from data/inputs.pt\n",
      "Saved to data/inputs_layer_0.pt\n"
     ]
    },
    {
     "name": "stderr",
     "output_type": "stream",
     "text": [
      "2024-05-16 19:13:16,123 - INFO - Layer state dict loaded from data/layer_0.pt\n",
      "Loaded from data/inputs_layer_0.pt\n",
      "Saved to data/activations_layer_0.pt\n",
      "\n"
     ]
    },
    {
     "name": "stdout",
     "output_type": "stream",
     "text": [
      "Loaded from data/activations_layer_0.pt\n",
      "Saved to data/inputs_layer_1.pt\n"
     ]
    },
    {
     "name": "stderr",
     "output_type": "stream",
     "text": [
      "2024-05-16 19:13:17,335 - INFO - Layer state dict loaded from data/layer_1.pt\n",
      "Loaded from data/inputs_layer_1.pt\n",
      "Saved to data/activations_layer_1.pt\n",
      "\n"
     ]
    },
    {
     "name": "stdout",
     "output_type": "stream",
     "text": [
      "Loaded from data/activations_layer_1.pt\n",
      "Saved to data/inputs_layer_2.pt\n"
     ]
    },
    {
     "name": "stderr",
     "output_type": "stream",
     "text": [
      "2024-05-16 19:13:18,626 - INFO - Layer state dict loaded from data/layer_2.pt\n",
      "Loaded from data/inputs_layer_2.pt\n",
      "Saved to data/activations_layer_2.pt\n",
      "\n"
     ]
    },
    {
     "name": "stdout",
     "output_type": "stream",
     "text": [
      "Loaded from data/activations_layer_2.pt\n",
      "Saved to data/inputs_layer_3.pt\n"
     ]
    },
    {
     "name": "stderr",
     "output_type": "stream",
     "text": [
      "2024-05-16 19:13:20,043 - INFO - Layer state dict loaded from data/layer_3.pt\n",
      "Loaded from data/inputs_layer_3.pt\n",
      "Saved to data/activations_layer_3.pt\n",
      "\n"
     ]
    },
    {
     "name": "stdout",
     "output_type": "stream",
     "text": [
      "Loaded from data/activations_layer_3.pt\n",
      "Saved to data/inputs_layer_4.pt\n"
     ]
    },
    {
     "name": "stderr",
     "output_type": "stream",
     "text": [
      "2024-05-16 19:13:21,692 - INFO - Layer state dict loaded from data/layer_4.pt\n",
      "Loaded from data/inputs_layer_4.pt\n",
      "Saved to data/activations_layer_4.pt\n",
      "\n"
     ]
    },
    {
     "name": "stdout",
     "output_type": "stream",
     "text": [
      "Loaded from data/activations_layer_4.pt\n",
      "Saved to data/inputs_layer_5.pt\n"
     ]
    },
    {
     "name": "stderr",
     "output_type": "stream",
     "text": [
      "2024-05-16 19:13:22,994 - INFO - Layer state dict loaded from data/layer_5.pt\n",
      "Loaded from data/inputs_layer_5.pt\n",
      "Saved to data/activations_layer_5.pt\n",
      "\n"
     ]
    },
    {
     "name": "stdout",
     "output_type": "stream",
     "text": [
      "Loaded from data/activations_layer_5.pt\n",
      "Saved to data/final_inputs.pt\n"
     ]
    },
    {
     "name": "stderr",
     "output_type": "stream",
     "text": [
      "2024-05-16 19:13:25,632 - INFO - Loaded from data/final_inputs.pt\n",
      "Saved to data/logits.pt\n",
      "\n"
     ]
    },
    {
     "name": "stdout",
     "output_type": "stream",
     "text": [
      "Loaded from data/logits.pt\n",
      "Saved to data/input_error_layer_5.pt\n"
     ]
    },
    {
     "name": "stderr",
     "output_type": "stream",
     "text": [
      "2024-05-16 19:14:04,888 - ERROR - Command 'python3 worker.py --task backward --layer_idx 5 --error data/input_error_layer_5.pt' failed with error: /Users/ibrahim/anaconda3/lib/python3.11/site-packages/torch/amp/grad_scaler.py:131: UserWarning: torch.cuda.amp.GradScaler is enabled, but CUDA is not available.  Disabling.\n",
      "  warnings.warn(\n",
      "/Users/ibrahim/anaconda3/lib/python3.11/site-packages/torch/amp/autocast_mode.py:250: UserWarning: User provided device_type of 'cuda', but CUDA is not available. Disabling\n",
      "  warnings.warn(\n",
      "\n",
      "2024-05-16 19:14:04,908 - ERROR - Failed to process and save batch: Command 'python3 worker.py --task backward --layer_idx 5 --error data/input_error_layer_5.pt' died with <Signals.SIGKILL: 9>.\n",
      "2024-05-16 19:14:04,909 - ERROR - Error processing batch at step 3: Command 'python3 worker.py --task backward --layer_idx 5 --error data/input_error_layer_5.pt' died with <Signals.SIGKILL: 9>.\n",
      "Epoch 1/3: 4it [03:55, 55.44s/it]"
     ]
    },
    {
     "name": "stdout",
     "output_type": "stream",
     "text": [
      "Saved to data/batch.pt\n"
     ]
    },
    {
     "name": "stderr",
     "output_type": "stream",
     "text": [
      "2024-05-16 19:14:07,638 - INFO - Loaded from data/batch.pt\n",
      "Saved to data/inputs.pt\n",
      "\n"
     ]
    },
    {
     "name": "stdout",
     "output_type": "stream",
     "text": [
      "Loaded from data/inputs.pt\n",
      "Saved to data/inputs_layer_0.pt\n"
     ]
    },
    {
     "name": "stderr",
     "output_type": "stream",
     "text": [
      "2024-05-16 19:14:08,873 - INFO - Layer state dict loaded from data/layer_0.pt\n",
      "Loaded from data/inputs_layer_0.pt\n",
      "Saved to data/activations_layer_0.pt\n",
      "\n"
     ]
    },
    {
     "name": "stdout",
     "output_type": "stream",
     "text": [
      "Loaded from data/activations_layer_0.pt\n",
      "Saved to data/inputs_layer_1.pt\n"
     ]
    },
    {
     "name": "stderr",
     "output_type": "stream",
     "text": [
      "2024-05-16 19:14:10,050 - INFO - Layer state dict loaded from data/layer_1.pt\n",
      "Loaded from data/inputs_layer_1.pt\n",
      "Saved to data/activations_layer_1.pt\n",
      "\n"
     ]
    },
    {
     "name": "stdout",
     "output_type": "stream",
     "text": [
      "Loaded from data/activations_layer_1.pt\n",
      "Saved to data/inputs_layer_2.pt\n"
     ]
    },
    {
     "name": "stderr",
     "output_type": "stream",
     "text": [
      "2024-05-16 19:14:11,200 - INFO - Layer state dict loaded from data/layer_2.pt\n",
      "Loaded from data/inputs_layer_2.pt\n",
      "Saved to data/activations_layer_2.pt\n",
      "\n"
     ]
    },
    {
     "name": "stdout",
     "output_type": "stream",
     "text": [
      "Loaded from data/activations_layer_2.pt\n",
      "Saved to data/inputs_layer_3.pt\n"
     ]
    },
    {
     "name": "stderr",
     "output_type": "stream",
     "text": [
      "2024-05-16 19:14:12,359 - INFO - Layer state dict loaded from data/layer_3.pt\n",
      "Loaded from data/inputs_layer_3.pt\n",
      "Saved to data/activations_layer_3.pt\n",
      "\n"
     ]
    },
    {
     "name": "stdout",
     "output_type": "stream",
     "text": [
      "Loaded from data/activations_layer_3.pt\n",
      "Saved to data/inputs_layer_4.pt\n"
     ]
    },
    {
     "name": "stderr",
     "output_type": "stream",
     "text": [
      "2024-05-16 19:14:13,630 - INFO - Layer state dict loaded from data/layer_4.pt\n",
      "Loaded from data/inputs_layer_4.pt\n",
      "Saved to data/activations_layer_4.pt\n",
      "\n"
     ]
    },
    {
     "name": "stdout",
     "output_type": "stream",
     "text": [
      "Loaded from data/activations_layer_4.pt\n",
      "Saved to data/inputs_layer_5.pt\n"
     ]
    },
    {
     "name": "stderr",
     "output_type": "stream",
     "text": [
      "2024-05-16 19:14:14,880 - INFO - Layer state dict loaded from data/layer_5.pt\n",
      "Loaded from data/inputs_layer_5.pt\n",
      "Saved to data/activations_layer_5.pt\n",
      "\n"
     ]
    },
    {
     "name": "stdout",
     "output_type": "stream",
     "text": [
      "Loaded from data/activations_layer_5.pt\n",
      "Saved to data/final_inputs.pt\n"
     ]
    },
    {
     "name": "stderr",
     "output_type": "stream",
     "text": [
      "2024-05-16 19:14:17,536 - INFO - Loaded from data/final_inputs.pt\n",
      "Saved to data/logits.pt\n",
      "\n"
     ]
    },
    {
     "name": "stdout",
     "output_type": "stream",
     "text": [
      "Loaded from data/logits.pt\n",
      "Saved to data/input_error_layer_5.pt\n"
     ]
    },
    {
     "name": "stderr",
     "output_type": "stream",
     "text": [
      "Epoch 1/3: 4it [04:22, 65.51s/it]\n"
     ]
    },
    {
     "ename": "KeyboardInterrupt",
     "evalue": "",
     "output_type": "error",
     "traceback": [
      "\u001b[0;31m---------------------------------------------------------------------------\u001b[0m",
      "\u001b[0;31mKeyboardInterrupt\u001b[0m                         Traceback (most recent call last)",
      "Cell \u001b[0;32mIn[2], line 152\u001b[0m\n\u001b[1;32m    148\u001b[0m         \u001b[38;5;28;01mraise\u001b[39;00m\n\u001b[1;32m    151\u001b[0m \u001b[38;5;28;01mif\u001b[39;00m \u001b[38;5;18m__name__\u001b[39m \u001b[38;5;241m==\u001b[39m \u001b[38;5;124m\"\u001b[39m\u001b[38;5;124m__main__\u001b[39m\u001b[38;5;124m\"\u001b[39m:\n\u001b[0;32m--> 152\u001b[0m     main()\n",
      "Cell \u001b[0;32mIn[2], line 74\u001b[0m, in \u001b[0;36mmain\u001b[0;34m()\u001b[0m\n\u001b[1;32m     72\u001b[0m \u001b[38;5;28;01mfor\u001b[39;00m step, batch \u001b[38;5;129;01min\u001b[39;00m \u001b[38;5;28menumerate\u001b[39m(tqdm(dataloader, desc\u001b[38;5;241m=\u001b[39m\u001b[38;5;124mf\u001b[39m\u001b[38;5;124m\"\u001b[39m\u001b[38;5;124mEpoch \u001b[39m\u001b[38;5;132;01m{\u001b[39;00mepoch\u001b[38;5;250m \u001b[39m\u001b[38;5;241m+\u001b[39m\u001b[38;5;250m \u001b[39m\u001b[38;5;241m1\u001b[39m\u001b[38;5;132;01m}\u001b[39;00m\u001b[38;5;124m/\u001b[39m\u001b[38;5;132;01m{\u001b[39;00mnum_epochs\u001b[38;5;132;01m}\u001b[39;00m\u001b[38;5;124m\"\u001b[39m)):\n\u001b[1;32m     73\u001b[0m     \u001b[38;5;28;01mtry\u001b[39;00m:\n\u001b[0;32m---> 74\u001b[0m         process_batch(batch, tokenizer, gradient_accumulation_steps, epoch_loss)\n\u001b[1;32m     75\u001b[0m     \u001b[38;5;28;01mexcept\u001b[39;00m \u001b[38;5;167;01mException\u001b[39;00m \u001b[38;5;28;01mas\u001b[39;00m e:\n\u001b[1;32m     76\u001b[0m         logging\u001b[38;5;241m.\u001b[39merror(\u001b[38;5;124mf\u001b[39m\u001b[38;5;124m\"\u001b[39m\u001b[38;5;124mError processing batch at step \u001b[39m\u001b[38;5;132;01m{\u001b[39;00mstep\u001b[38;5;132;01m}\u001b[39;00m\u001b[38;5;124m: \u001b[39m\u001b[38;5;132;01m{\u001b[39;00me\u001b[38;5;132;01m}\u001b[39;00m\u001b[38;5;124m\"\u001b[39m)\n",
      "Cell \u001b[0;32mIn[2], line 106\u001b[0m, in \u001b[0;36mprocess_batch\u001b[0;34m(batch, tokenizer, gradient_accumulation_steps, epoch_loss)\u001b[0m\n\u001b[1;32m    104\u001b[0m error \u001b[38;5;241m=\u001b[39m logits\u001b[38;5;241m.\u001b[39mgrad\n\u001b[1;32m    105\u001b[0m \u001b[38;5;28;01mfor\u001b[39;00m layer_idx \u001b[38;5;129;01min\u001b[39;00m \u001b[38;5;28mreversed\u001b[39m(\u001b[38;5;28mrange\u001b[39m(\u001b[38;5;241m6\u001b[39m)):\n\u001b[0;32m--> 106\u001b[0m     worker_backward(layer_idx, error)\n\u001b[1;32m    107\u001b[0m     wait_for_file(\u001b[38;5;124mf\u001b[39m\u001b[38;5;124m\"\u001b[39m\u001b[38;5;124mdata/error_layer_\u001b[39m\u001b[38;5;132;01m{\u001b[39;00mlayer_idx\u001b[38;5;132;01m}\u001b[39;00m\u001b[38;5;124m.pt\u001b[39m\u001b[38;5;124m\"\u001b[39m)\n\u001b[1;32m    108\u001b[0m     error_grads \u001b[38;5;241m=\u001b[39m load_from_disk(\u001b[38;5;124mf\u001b[39m\u001b[38;5;124m\"\u001b[39m\u001b[38;5;124mdata/error_layer_\u001b[39m\u001b[38;5;132;01m{\u001b[39;00mlayer_idx\u001b[38;5;132;01m}\u001b[39;00m\u001b[38;5;124m.pt\u001b[39m\u001b[38;5;124m\"\u001b[39m)\n",
      "Cell \u001b[0;32mIn[2], line 128\u001b[0m, in \u001b[0;36mworker_backward\u001b[0;34m(layer_idx, error)\u001b[0m\n\u001b[1;32m    126\u001b[0m input_error_file \u001b[38;5;241m=\u001b[39m \u001b[38;5;124mf\u001b[39m\u001b[38;5;124m\"\u001b[39m\u001b[38;5;124mdata/input_error_layer_\u001b[39m\u001b[38;5;132;01m{\u001b[39;00mlayer_idx\u001b[38;5;132;01m}\u001b[39;00m\u001b[38;5;124m.pt\u001b[39m\u001b[38;5;124m\"\u001b[39m\n\u001b[1;32m    127\u001b[0m save_to_disk(error, input_error_file)\n\u001b[0;32m--> 128\u001b[0m run_command(\u001b[38;5;124mf\u001b[39m\u001b[38;5;124m\"\u001b[39m\u001b[38;5;124mpython3 worker.py --task backward --layer_idx \u001b[39m\u001b[38;5;132;01m{\u001b[39;00mlayer_idx\u001b[38;5;132;01m}\u001b[39;00m\u001b[38;5;124m --error \u001b[39m\u001b[38;5;132;01m{\u001b[39;00minput_error_file\u001b[38;5;132;01m}\u001b[39;00m\u001b[38;5;124m\"\u001b[39m)\n",
      "Cell \u001b[0;32mIn[2], line 144\u001b[0m, in \u001b[0;36mrun_command\u001b[0;34m(command)\u001b[0m\n\u001b[1;32m    142\u001b[0m \u001b[38;5;28;01mdef\u001b[39;00m \u001b[38;5;21mrun_command\u001b[39m(command):\n\u001b[1;32m    143\u001b[0m     \u001b[38;5;28;01mtry\u001b[39;00m:\n\u001b[0;32m--> 144\u001b[0m         result \u001b[38;5;241m=\u001b[39m subprocess\u001b[38;5;241m.\u001b[39mrun(command, shell\u001b[38;5;241m=\u001b[39m\u001b[38;5;28;01mTrue\u001b[39;00m, text\u001b[38;5;241m=\u001b[39m\u001b[38;5;28;01mTrue\u001b[39;00m, capture_output\u001b[38;5;241m=\u001b[39m\u001b[38;5;28;01mTrue\u001b[39;00m, check\u001b[38;5;241m=\u001b[39m\u001b[38;5;28;01mTrue\u001b[39;00m)\n\u001b[1;32m    145\u001b[0m         logging\u001b[38;5;241m.\u001b[39minfo(result\u001b[38;5;241m.\u001b[39mstdout)\n\u001b[1;32m    146\u001b[0m     \u001b[38;5;28;01mexcept\u001b[39;00m subprocess\u001b[38;5;241m.\u001b[39mCalledProcessError \u001b[38;5;28;01mas\u001b[39;00m e:\n",
      "File \u001b[0;32m~/anaconda3/lib/python3.11/subprocess.py:550\u001b[0m, in \u001b[0;36mrun\u001b[0;34m(input, capture_output, timeout, check, *popenargs, **kwargs)\u001b[0m\n\u001b[1;32m    548\u001b[0m \u001b[38;5;28;01mwith\u001b[39;00m Popen(\u001b[38;5;241m*\u001b[39mpopenargs, \u001b[38;5;241m*\u001b[39m\u001b[38;5;241m*\u001b[39mkwargs) \u001b[38;5;28;01mas\u001b[39;00m process:\n\u001b[1;32m    549\u001b[0m     \u001b[38;5;28;01mtry\u001b[39;00m:\n\u001b[0;32m--> 550\u001b[0m         stdout, stderr \u001b[38;5;241m=\u001b[39m process\u001b[38;5;241m.\u001b[39mcommunicate(\u001b[38;5;28minput\u001b[39m, timeout\u001b[38;5;241m=\u001b[39mtimeout)\n\u001b[1;32m    551\u001b[0m     \u001b[38;5;28;01mexcept\u001b[39;00m TimeoutExpired \u001b[38;5;28;01mas\u001b[39;00m exc:\n\u001b[1;32m    552\u001b[0m         process\u001b[38;5;241m.\u001b[39mkill()\n",
      "File \u001b[0;32m~/anaconda3/lib/python3.11/subprocess.py:1209\u001b[0m, in \u001b[0;36mPopen.communicate\u001b[0;34m(self, input, timeout)\u001b[0m\n\u001b[1;32m   1206\u001b[0m     endtime \u001b[38;5;241m=\u001b[39m \u001b[38;5;28;01mNone\u001b[39;00m\n\u001b[1;32m   1208\u001b[0m \u001b[38;5;28;01mtry\u001b[39;00m:\n\u001b[0;32m-> 1209\u001b[0m     stdout, stderr \u001b[38;5;241m=\u001b[39m \u001b[38;5;28mself\u001b[39m\u001b[38;5;241m.\u001b[39m_communicate(\u001b[38;5;28minput\u001b[39m, endtime, timeout)\n\u001b[1;32m   1210\u001b[0m \u001b[38;5;28;01mexcept\u001b[39;00m \u001b[38;5;167;01mKeyboardInterrupt\u001b[39;00m:\n\u001b[1;32m   1211\u001b[0m     \u001b[38;5;66;03m# https://bugs.python.org/issue25942\u001b[39;00m\n\u001b[1;32m   1212\u001b[0m     \u001b[38;5;66;03m# See the detailed comment in .wait().\u001b[39;00m\n\u001b[1;32m   1213\u001b[0m     \u001b[38;5;28;01mif\u001b[39;00m timeout \u001b[38;5;129;01mis\u001b[39;00m \u001b[38;5;129;01mnot\u001b[39;00m \u001b[38;5;28;01mNone\u001b[39;00m:\n",
      "File \u001b[0;32m~/anaconda3/lib/python3.11/subprocess.py:2108\u001b[0m, in \u001b[0;36mPopen._communicate\u001b[0;34m(self, input, endtime, orig_timeout)\u001b[0m\n\u001b[1;32m   2101\u001b[0m     \u001b[38;5;28mself\u001b[39m\u001b[38;5;241m.\u001b[39m_check_timeout(endtime, orig_timeout,\n\u001b[1;32m   2102\u001b[0m                         stdout, stderr,\n\u001b[1;32m   2103\u001b[0m                         skip_check_and_raise\u001b[38;5;241m=\u001b[39m\u001b[38;5;28;01mTrue\u001b[39;00m)\n\u001b[1;32m   2104\u001b[0m     \u001b[38;5;28;01mraise\u001b[39;00m \u001b[38;5;167;01mRuntimeError\u001b[39;00m(  \u001b[38;5;66;03m# Impossible :)\u001b[39;00m\n\u001b[1;32m   2105\u001b[0m         \u001b[38;5;124m'\u001b[39m\u001b[38;5;124m_check_timeout(..., skip_check_and_raise=True) \u001b[39m\u001b[38;5;124m'\u001b[39m\n\u001b[1;32m   2106\u001b[0m         \u001b[38;5;124m'\u001b[39m\u001b[38;5;124mfailed to raise TimeoutExpired.\u001b[39m\u001b[38;5;124m'\u001b[39m)\n\u001b[0;32m-> 2108\u001b[0m ready \u001b[38;5;241m=\u001b[39m selector\u001b[38;5;241m.\u001b[39mselect(timeout)\n\u001b[1;32m   2109\u001b[0m \u001b[38;5;28mself\u001b[39m\u001b[38;5;241m.\u001b[39m_check_timeout(endtime, orig_timeout, stdout, stderr)\n\u001b[1;32m   2111\u001b[0m \u001b[38;5;66;03m# XXX Rewrite these to use non-blocking I/O on the file\u001b[39;00m\n\u001b[1;32m   2112\u001b[0m \u001b[38;5;66;03m# objects; they are no longer using C stdio!\u001b[39;00m\n",
      "File \u001b[0;32m~/anaconda3/lib/python3.11/selectors.py:415\u001b[0m, in \u001b[0;36m_PollLikeSelector.select\u001b[0;34m(self, timeout)\u001b[0m\n\u001b[1;32m    413\u001b[0m ready \u001b[38;5;241m=\u001b[39m []\n\u001b[1;32m    414\u001b[0m \u001b[38;5;28;01mtry\u001b[39;00m:\n\u001b[0;32m--> 415\u001b[0m     fd_event_list \u001b[38;5;241m=\u001b[39m \u001b[38;5;28mself\u001b[39m\u001b[38;5;241m.\u001b[39m_selector\u001b[38;5;241m.\u001b[39mpoll(timeout)\n\u001b[1;32m    416\u001b[0m \u001b[38;5;28;01mexcept\u001b[39;00m \u001b[38;5;167;01mInterruptedError\u001b[39;00m:\n\u001b[1;32m    417\u001b[0m     \u001b[38;5;28;01mreturn\u001b[39;00m ready\n",
      "\u001b[0;31mKeyboardInterrupt\u001b[0m: "
     ]
    }
   ],
   "source": [
    "%pip install --upgrade jupyter ipywidgets\n",
    "%pip install torch fairscale tiktoken==0.4.0 fair blobfile datasets mwparserfromhell\n",
    "\n",
    "import logging\n",
    "import subprocess\n",
    "import torch\n",
    "from common import save_to_disk, load_from_disk, save_layer_state_dict, load_layer_state_dict, model_args  # Import global model_args\n",
    "from tokenizer import Tokenizer\n",
    "from datasets import load_dataset\n",
    "from torch.utils.data import DataLoader, IterableDataset\n",
    "import torch.nn.functional as F\n",
    "from tqdm import tqdm\n",
    "import os\n",
    "import time\n",
    "from model import TransformerLayer\n",
    "\n",
    "class StreamingWikipediaDataset(IterableDataset):\n",
    "    def __init__(self, texts, tokenizer, seq_len):\n",
    "        self.texts = texts\n",
    "        self.tokenizer = tokenizer\n",
    "        self.seq_len = seq_len\n",
    "\n",
    "    def parse(self, text):\n",
    "        tokens = self.tokenizer.encode(text, bos=True, eos=True)\n",
    "        tokens = tokens[:self.seq_len] + [self.tokenizer.pad_id] * (self.seq_len - len(tokens))\n",
    "        return torch.tensor(tokens)\n",
    "\n",
    "    def __iter__(self):\n",
    "        for item in self.texts:\n",
    "            yield self.parse(item['text'])\n",
    "\n",
    "def wait_for_file(filename, timeout=30):\n",
    "    start_time = time.time()\n",
    "    while not os.path.exists(filename):\n",
    "        if time.time() - start_time > timeout:\n",
    "            raise TimeoutError(f\"Timeout waiting for {filename}\")\n",
    "        time.sleep(0.1)\n",
    "\n",
    "def initialize_layers(num_layers, vocab_size):\n",
    "    for layer_idx in range(num_layers):\n",
    "        layer = TransformerLayer(model_args.dim, model_args.n_heads, model_args.dim * model_args.ffn_dim_multiplier)\n",
    "        save_layer_state_dict(layer.state_dict(), f\"data/layer_{layer_idx}.pt\")\n",
    "\n",
    "def main():\n",
    "    # Initialize the tokenizer\n",
    "    tokenizer = Tokenizer(encoding_name='cl100k_base')\n",
    "    \n",
    "    # Load the dataset using streaming\n",
    "    dataset = load_dataset(\"wikipedia\", language=\"en\", date=\"20240401\", split='train', streaming=True)\n",
    "    \n",
    "    # Prepare the dataset and dataloader\n",
    "    seq_len = 2048\n",
    "    wiki_dataset = StreamingWikipediaDataset(dataset, tokenizer, seq_len)\n",
    "    dataloader = DataLoader(wiki_dataset, batch_size=1, shuffle=False, num_workers=0)\n",
    "\n",
    "    num_epochs = 3\n",
    "    gradient_accumulation_steps = 4\n",
    "\n",
    "    # Initialize layer state dictionaries\n",
    "    initialize_layers(num_layers=model_args.n_layers, vocab_size=tokenizer.get_vocab_size())\n",
    "\n",
    "    for epoch in range(num_epochs):\n",
    "        epoch_loss = 0\n",
    "\n",
    "        for step, batch in enumerate(tqdm(dataloader, desc=f\"Epoch {epoch + 1}/{num_epochs}\")):\n",
    "            try:\n",
    "                process_batch(batch, tokenizer, gradient_accumulation_steps, epoch_loss)\n",
    "            except Exception as e:\n",
    "                logging.error(f\"Error processing batch at step {step}: {e}\")\n",
    "                continue \n",
    "\n",
    "        print(f\"Epoch {epoch + 1} Loss: {epoch_loss / len(dataloader)}\")\n",
    "\n",
    "def process_batch(batch, tokenizer, gradient_accumulation_steps, epoch_loss):\n",
    "    try:\n",
    "        batch = batch.to('cpu')\n",
    "        save_to_disk(batch, \"data/batch.pt\")\n",
    "        run_command(f\"python3 worker.py --task embed --batch data/batch.pt\")\n",
    "        wait_for_file(\"data/inputs.pt\")\n",
    "        inputs = load_from_disk(\"data/inputs.pt\")\n",
    "\n",
    "        for layer_idx in range(model_args.n_layers):\n",
    "            worker_forward(layer_idx, inputs)\n",
    "            wait_for_file(f\"data/activations_layer_{layer_idx}.pt\")\n",
    "            inputs = load_from_disk(f\"data/activations_layer_{layer_idx}.pt\")\n",
    "\n",
    "        worker_final_logits(inputs)\n",
    "        wait_for_file(\"data/logits.pt\")\n",
    "        logits = load_from_disk(\"data/logits.pt\")\n",
    "        \n",
    "        loss = F.cross_entropy(logits.view(-1, logits.size(-1)), batch.view(-1), ignore_index=tokenizer.pad_id)\n",
    "        loss = loss / gradient_accumulation_steps\n",
    "        epoch_loss += loss.item() * gradient_accumulation_steps\n",
    "\n",
    "        logits.retain_grad()\n",
    "        loss.backward()\n",
    "        error = logits.grad\n",
    "        for layer_idx in reversed(range(model_args.n_layers)):\n",
    "            worker_backward(layer_idx, error)\n",
    "            wait_for_file(f\"data/error_layer_{layer_idx}.pt\")\n",
    "            error_grads = load_from_disk(f\"data/error_layer_{layer_idx}.pt\")\n",
    "            print(\"ERROR GRADS SHAPE: \", error_grads[0].shape)\n",
    "            print(\"ERROR GRADS LEN: \", len(error_grads))\n",
    "            if error_grads is None or len(error_grads) != 2:\n",
    "                print(\"ERROR GRADS: \", error_grads)\n",
    "                raise ValueError(f\"Failed to load error and grads from {f'data/error_layer_{layer_idx}.pt'}\")\n",
    "            error, grads = error_grads\n",
    "            update_layer(layer_idx, grads)\n",
    "\n",
    "    except Exception as e:\n",
    "        logging.error(f\"Failed to process and save batch: {e}\")\n",
    "        raise\n",
    "\n",
    "def worker_forward(layer_idx, inputs):\n",
    "    save_to_disk(inputs, f\"data/inputs_layer_{layer_idx}.pt\")\n",
    "    run_command(f\"python3 worker.py --task forward --layer_idx {layer_idx} --inputs data/inputs_layer_{layer_idx}.pt\")\n",
    "\n",
    "def worker_backward(layer_idx, error):\n",
    "    input_error_file = f\"data/input_error_layer_{layer_idx}.pt\"\n",
    "    save_to_disk(error, input_error_file)\n",
    "    run_command(f\"python3 worker.py --task backward --layer_idx {layer_idx} --error {input_error_file}\")\n",
    "\n",
    "def worker_final_logits(inputs):\n",
    "    save_to_disk(inputs, \"data/final_inputs.pt\")\n",
    "    run_command(f\"python3 worker.py --task final_logits --inputs data/final_inputs.pt\")\n",
    "\n",
    "def update_layer(layer_idx, grads):\n",
    "    state_dict = load_layer_state_dict(f\"data/layer_{layer_idx}.pt\")\n",
    "    if state_dict is None:\n",
    "        raise ValueError(f\"Failed to load state dict for layer {layer_idx}\")\n",
    "    for param, grad in zip(state_dict.values(), grads):\n",
    "        param.data -= grad\n",
    "    save_layer_state_dict(state_dict, f\"data/layer_{layer_idx}.pt\")\n",
    "\n",
    "def run_command(command):\n",
    "    try:\n",
    "        result = subprocess.run(command, shell=True, text=True, capture_output=True, check=True)\n",
    "        logging.info(result.stdout)\n",
    "    except subprocess.CalledProcessError as e:\n",
    "        logging.error(f\"Command '{command}' failed with error: {e.stderr}\")\n",
    "        raise\n",
    "\n",
    "if __name__ == \"__main__\":\n",
    "    main()\n"
   ]
  }
 ],
 "metadata": {
  "kernelspec": {
   "display_name": "base",
   "language": "python",
   "name": "python3"
  },
  "language_info": {
   "codemirror_mode": {
    "name": "ipython",
    "version": 3
   },
   "file_extension": ".py",
   "mimetype": "text/x-python",
   "name": "python",
   "nbconvert_exporter": "python",
   "pygments_lexer": "ipython3",
   "version": "3.11.5"
  }
 },
 "nbformat": 4,
 "nbformat_minor": 2
}
